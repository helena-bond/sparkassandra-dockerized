{
 "cells": [
  {
   "cell_type": "code",
   "execution_count": 1,
   "metadata": {
    "collapsed": false
   },
   "outputs": [],
   "source": [
    "import os\n",
    "import pyspark\n",
    "from pyspark.sql import SQLContext\n",
    "import pyspark.sql.functions as F\n",
    "import seaborn as sns\n",
    "import matplotlib.pyplot as plt"
   ]
  },
  {
   "cell_type": "code",
   "execution_count": 2,
   "metadata": {
    "collapsed": true
   },
   "outputs": [],
   "source": [
    "KEYSPACE = \"sparkassandra\"\n",
    "APP_NAME = KEYSPACE\n",
    "CASSANDRA_IP = \"cassandra_node\""
   ]
  },
  {
   "cell_type": "markdown",
   "metadata": {},
   "source": [
    "## Init PySpark"
   ]
  },
  {
   "cell_type": "code",
   "execution_count": 3,
   "metadata": {
    "collapsed": true
   },
   "outputs": [],
   "source": [
    "SUBMIT_ARGS = \"--packages com.databricks:spark-csv_2.10:1.2.0,com.datastax.spark:spark-cassandra-connector_2.10:1.6.0-M1 pyspark-shell\"\n",
    "\n",
    "os.environ[\"PYSPARK_SUBMIT_ARGS\"] = SUBMIT_ARGS"
   ]
  },
  {
   "cell_type": "code",
   "execution_count": 4,
   "metadata": {
    "collapsed": false
   },
   "outputs": [],
   "source": [
    "# Make sure the driver and workers all use Python2\n",
    "os.environ['PYSPARK_PYTHON'] = '/usr/bin/python'"
   ]
  },
  {
   "cell_type": "code",
   "execution_count": 5,
   "metadata": {
    "collapsed": false
   },
   "outputs": [
    {
     "data": {
      "text/plain": [
       "<pyspark.conf.SparkConf at 0x7f3d7ffac750>"
      ]
     },
     "execution_count": 5,
     "metadata": {},
     "output_type": "execute_result"
    }
   ],
   "source": [
    "#Init Spark Conf\n",
    "conf = pyspark.SparkConf().setAppName(APP_NAME)\n",
    "conf.set(\"spark.cassandra.connection.host\",CASSANDRA_IP)\n",
    "conf.set(\"spark.executor.memory\", \"8g\")"
   ]
  },
  {
   "cell_type": "code",
   "execution_count": 6,
   "metadata": {
    "collapsed": false
   },
   "outputs": [],
   "source": [
    "# Init Spark Context\n",
    "sc = pyspark.SparkContext('spark://10.0.0.2:7077', conf = conf)"
   ]
  },
  {
   "cell_type": "code",
   "execution_count": 7,
   "metadata": {
    "collapsed": false
   },
   "outputs": [],
   "source": [
    "# Init Spark SQL Context\n",
    "sql_ctx = SQLContext(sc)"
   ]
  },
  {
   "cell_type": "markdown",
   "metadata": {
    "collapsed": true
   },
   "source": [
    "## Load Flight Data from Cassandra (us_flights table)"
   ]
  },
  {
   "cell_type": "code",
   "execution_count": 81,
   "metadata": {
    "collapsed": false
   },
   "outputs": [],
   "source": [
    "flights_df = sql_ctx.read.format(\"org.apache.spark.sql.cassandra\").options(table=\"us_flights\", keyspace=KEYSPACE).load()\n",
    "flights_df = flights_df.dropna()"
   ]
  },
  {
   "cell_type": "code",
   "execution_count": 82,
   "metadata": {
    "collapsed": false
   },
   "outputs": [
    {
     "name": "stdout",
     "output_type": "stream",
     "text": [
      "root\n",
      " |-- id: string (nullable = true)\n",
      " |-- actualelapsedtime: string (nullable = true)\n",
      " |-- airtime: string (nullable = true)\n",
      " |-- arrdelay: string (nullable = true)\n",
      " |-- arrtime: string (nullable = true)\n",
      " |-- cancellationcode: string (nullable = true)\n",
      " |-- cancelled: string (nullable = true)\n",
      " |-- carrierdelay: string (nullable = true)\n",
      " |-- crsarrtime: string (nullable = true)\n",
      " |-- crsdeptime: string (nullable = true)\n",
      " |-- crselapsedtime: string (nullable = true)\n",
      " |-- dayofmonth: string (nullable = true)\n",
      " |-- dayofweek: string (nullable = true)\n",
      " |-- depdelay: string (nullable = true)\n",
      " |-- deptime: string (nullable = true)\n",
      " |-- dest: string (nullable = true)\n",
      " |-- distance: string (nullable = true)\n",
      " |-- diverted: string (nullable = true)\n",
      " |-- flightnum: string (nullable = true)\n",
      " |-- lateaircraftdelay: string (nullable = true)\n",
      " |-- month: string (nullable = true)\n",
      " |-- nasdelay: string (nullable = true)\n",
      " |-- origin: string (nullable = true)\n",
      " |-- securitydelay: string (nullable = true)\n",
      " |-- tailnum: string (nullable = true)\n",
      " |-- taxiin: string (nullable = true)\n",
      " |-- taxiout: string (nullable = true)\n",
      " |-- uniquecarrier: string (nullable = true)\n",
      " |-- weatherdelay: string (nullable = true)\n",
      " |-- year: string (nullable = true)\n",
      "\n"
     ]
    }
   ],
   "source": [
    "flights_df.printSchema()"
   ]
  },
  {
   "cell_type": "code",
   "execution_count": 83,
   "metadata": {
    "collapsed": false
   },
   "outputs": [],
   "source": [
    "def convertColumn(df, name, newType) :\n",
    "    df_1 = df.withColumnRenamed(name, \"swap\")\n",
    "    df_1 = df_1.withColumn(name, df_1[\"swap\"].cast(newType)).drop(\"swap\")\n",
    "    return df_1"
   ]
  },
  {
   "cell_type": "code",
   "execution_count": 84,
   "metadata": {
    "collapsed": false
   },
   "outputs": [],
   "source": [
    "flights_df = convertColumn(flights_df, \"dayofweek\", \"int\")\n",
    "flights_df = convertColumn(flights_df, \"arrdelay\", \"int\")\n",
    "flights_df = convertColumn(flights_df, \"depdelay\", \"int\")"
   ]
  },
  {
   "cell_type": "code",
   "execution_count": 85,
   "metadata": {
    "collapsed": true
   },
   "outputs": [],
   "source": [
    "flights_df.registerTempTable(\"flight\")"
   ]
  },
  {
   "cell_type": "markdown",
   "metadata": {},
   "source": [
    "## When is the best day of week to fly to minimise delays?"
   ]
  },
  {
   "cell_type": "code",
   "execution_count": 14,
   "metadata": {
    "collapsed": false
   },
   "outputs": [],
   "source": [
    "# SQL Request method\n",
    "#sql_ctx.sql(\"\"\"SELECT DayOfWeek as weekday, avg(ArrDelay) as avg_delay \n",
    "#                                FROM flight\n",
    "#                                GROUP BY DayOfWeek\n",
    "#                                ORDER BY avg_delay DESC\"\"\").show()"
   ]
  },
  {
   "cell_type": "code",
   "execution_count": 87,
   "metadata": {
    "collapsed": false
   },
   "outputs": [
    {
     "name": "stdout",
     "output_type": "stream",
     "text": [
      "+---------+-----------------+\n",
      "|dayofweek|    AVG_DELAY_ARR|\n",
      "+---------+-----------------+\n",
      "|        1|6.499125293976524|\n",
      "|        2|7.186731919022949|\n",
      "|        3|8.577337262836334|\n",
      "|        4|9.614141357287465|\n",
      "|        5|9.670663099579311|\n",
      "|        6|5.014933378313935|\n",
      "|        7|6.154075524251174|\n",
      "+---------+-----------------+\n",
      "\n"
     ]
    }
   ],
   "source": [
    "# DataFrame syntax\n",
    "df_minimise_delays_weekday = (flights_df\n",
    "                              .select('dayofweek', 'arrdelay')\n",
    "                              .groupBy('dayofweek')\n",
    "                              .agg(F.avg('arrdelay').alias('AVG_DELAY_ARR')))\n",
    "df_minimise_delays_weekday.show()"
   ]
  },
  {
   "cell_type": "code",
   "execution_count": 89,
   "metadata": {
    "collapsed": false
   },
   "outputs": [
    {
     "data": {
      "text/html": [
       "<div>\n",
       "<table border=\"1\" class=\"dataframe\">\n",
       "  <thead>\n",
       "    <tr style=\"text-align: right;\">\n",
       "      <th></th>\n",
       "      <th>dayofweek</th>\n",
       "      <th>AVG_DELAY_ARR</th>\n",
       "    </tr>\n",
       "  </thead>\n",
       "  <tbody>\n",
       "    <tr>\n",
       "      <th>0</th>\n",
       "      <td>1</td>\n",
       "      <td>6.499125</td>\n",
       "    </tr>\n",
       "    <tr>\n",
       "      <th>1</th>\n",
       "      <td>2</td>\n",
       "      <td>7.186732</td>\n",
       "    </tr>\n",
       "    <tr>\n",
       "      <th>2</th>\n",
       "      <td>3</td>\n",
       "      <td>8.577337</td>\n",
       "    </tr>\n",
       "    <tr>\n",
       "      <th>3</th>\n",
       "      <td>4</td>\n",
       "      <td>9.614141</td>\n",
       "    </tr>\n",
       "    <tr>\n",
       "      <th>4</th>\n",
       "      <td>5</td>\n",
       "      <td>9.670663</td>\n",
       "    </tr>\n",
       "    <tr>\n",
       "      <th>5</th>\n",
       "      <td>6</td>\n",
       "      <td>5.014933</td>\n",
       "    </tr>\n",
       "    <tr>\n",
       "      <th>6</th>\n",
       "      <td>7</td>\n",
       "      <td>6.154076</td>\n",
       "    </tr>\n",
       "  </tbody>\n",
       "</table>\n",
       "</div>"
      ],
      "text/plain": [
       "   dayofweek  AVG_DELAY_ARR\n",
       "0          1       6.499125\n",
       "1          2       7.186732\n",
       "2          3       8.577337\n",
       "3          4       9.614141\n",
       "4          5       9.670663\n",
       "5          6       5.014933\n",
       "6          7       6.154076"
      ]
     },
     "execution_count": 89,
     "metadata": {},
     "output_type": "execute_result"
    }
   ],
   "source": [
    "df_minimise_delays_weekday_pd = df_minimise_delays_weekday.toPandas()\n",
    "df_minimise_delays_weekday_pd"
   ]
  },
  {
   "cell_type": "code",
   "execution_count": 90,
   "metadata": {
    "collapsed": false
   },
   "outputs": [],
   "source": [
    "def convert_day_of_week(val):\n",
    "    week   = ['Monday', \n",
    "              'Tuesday', \n",
    "              'Wednesday', \n",
    "              'Thursday',  \n",
    "              'Friday', \n",
    "              'Saturday',\n",
    "              'Sunday']\n",
    "\n",
    "    return week[int(val)-1]"
   ]
  },
  {
   "cell_type": "code",
   "execution_count": 91,
   "metadata": {
    "collapsed": false
   },
   "outputs": [],
   "source": [
    "df_minimise_delays_weekday_pd[\"DAY_OF_WEEK\"] = df_minimise_delays_weekday_pd.dayofweek.apply(convert_day_of_week)"
   ]
  },
  {
   "cell_type": "code",
   "execution_count": 92,
   "metadata": {
    "collapsed": false
   },
   "outputs": [
    {
     "data": {
      "text/html": [
       "<div>\n",
       "<table border=\"1\" class=\"dataframe\">\n",
       "  <thead>\n",
       "    <tr style=\"text-align: right;\">\n",
       "      <th></th>\n",
       "      <th>DAY_OF_WEEK</th>\n",
       "      <th>AVG_DELAY_ARR</th>\n",
       "    </tr>\n",
       "  </thead>\n",
       "  <tbody>\n",
       "    <tr>\n",
       "      <th>0</th>\n",
       "      <td>Monday</td>\n",
       "      <td>6.499125</td>\n",
       "    </tr>\n",
       "    <tr>\n",
       "      <th>1</th>\n",
       "      <td>Tuesday</td>\n",
       "      <td>7.186732</td>\n",
       "    </tr>\n",
       "    <tr>\n",
       "      <th>2</th>\n",
       "      <td>Wednesday</td>\n",
       "      <td>8.577337</td>\n",
       "    </tr>\n",
       "    <tr>\n",
       "      <th>3</th>\n",
       "      <td>Thursday</td>\n",
       "      <td>9.614141</td>\n",
       "    </tr>\n",
       "    <tr>\n",
       "      <th>4</th>\n",
       "      <td>Friday</td>\n",
       "      <td>9.670663</td>\n",
       "    </tr>\n",
       "    <tr>\n",
       "      <th>5</th>\n",
       "      <td>Saturday</td>\n",
       "      <td>5.014933</td>\n",
       "    </tr>\n",
       "    <tr>\n",
       "      <th>6</th>\n",
       "      <td>Sunday</td>\n",
       "      <td>6.154076</td>\n",
       "    </tr>\n",
       "  </tbody>\n",
       "</table>\n",
       "</div>"
      ],
      "text/plain": [
       "  DAY_OF_WEEK  AVG_DELAY_ARR\n",
       "0      Monday       6.499125\n",
       "1     Tuesday       7.186732\n",
       "2   Wednesday       8.577337\n",
       "3    Thursday       9.614141\n",
       "4      Friday       9.670663\n",
       "5    Saturday       5.014933\n",
       "6      Sunday       6.154076"
      ]
     },
     "execution_count": 92,
     "metadata": {},
     "output_type": "execute_result"
    }
   ],
   "source": [
    "df_minimise_delays_weekday_pd[[\"DAY_OF_WEEK\",\"AVG_DELAY_ARR\"]]"
   ]
  },
  {
   "cell_type": "code",
   "execution_count": 128,
   "metadata": {
    "collapsed": false
   },
   "outputs": [
    {
     "data": {
      "text/plain": [
       "<function matplotlib.pyplot.legend>"
      ]
     },
     "execution_count": 128,
     "metadata": {},
     "output_type": "execute_result"
    },
    {
     "data": {
      "image/png": "[encoded data removed]",
      "text/plain": [
       "<matplotlib.figure.Figure at 0x7f3d7ccbf250>"
      ]
     },
     "metadata": {},
     "output_type": "display_data"
    }
   ],
   "source": [
    "sns.set_style('whitegrid')\n",
    "plt.figure(figsize=(12,6))\n",
    "ax = sns.barplot(x='DAY_OF_WEEK', y='AVG_DELAY_ARR', data=df_minimise_delays_weekday_pd)\n",
    "for p in ax.patches:\n",
    "    height = p.get_height()\n",
    "    ax.text(p.get_x(), height+ 0.08, '%1.00f'%p.get_height())\n",
    "plt.title('When is the best time of day of time of year to fly to minimise delays?')\n",
    "plt.xlabel('Day')\n",
    "plt.ylabel('Average Delay')\n",
    "plt.legend"
   ]
  },
  {
   "cell_type": "markdown",
   "metadata": {},
   "source": [
    "## When is the best day of week of month to fly to minimise delays?"
   ]
  },
  {
   "cell_type": "code",
   "execution_count": 94,
   "metadata": {
    "collapsed": false
   },
   "outputs": [
    {
     "name": "stdout",
     "output_type": "stream",
     "text": [
      "+---------+------------------+-----------------+------------------+------------------+------------------+------------------+------------------+------------------+-----------------+------------------+-----------------+------------------+\n",
      "|dayofweek|                 1|               10|                11|                12|                 2|                 3|                 4|                 5|                6|                 7|                8|                 9|\n",
      "+---------+------------------+-----------------+------------------+------------------+------------------+------------------+------------------+------------------+-----------------+------------------+-----------------+------------------+\n",
      "|        1|  8.95674767749939|4.151780026370761|5.8028160205841095|10.365620772024315|6.2598016572033535|11.223011524655204| 4.606463004744769|1.8298407555053402|6.822792691821886| 5.209551245332876|7.910395191779494| 2.940413341518314|\n",
      "|        2| 8.511072418803383|5.364624865915117| 8.585522263340097|13.803708622920412| 7.132561263996878|12.989774745303299| 4.628632862082549|3.0077189121877783|6.199235141892668|5.9052445464982775|6.883559128579227|2.9306145138467756|\n",
      "|        3|11.255738690527775|6.094103603898228|  8.02286758279562|15.131858287414218|  8.44978734050538|7.8248020798143445| 4.483682543849574| 4.435327056051768| 8.74965801022139|   7.5767365412101|7.528000069135973|  4.67249023755288|\n",
      "|        4| 12.28332589539393|8.018694097062724| 6.755673154543008|14.160278301363787|10.288257564745635|10.820912402326538|6.9264883773296395| 6.191600103692422|8.885839772802324| 8.124901178195477| 7.79981943250215| 6.887640794593487|\n",
      "|        5|11.725659053311276|7.780285785236844| 6.337610910285902|12.673280614576525|11.774840670249821|14.161077685365422|5.4379959937388485|   6.7664859311225| 8.97886880823799| 7.139285169362221| 8.58197076989835| 9.326092490453966|\n",
      "|        6| 6.558711800942143|2.585699901535928|  4.34205324424613| 9.946785618219312|5.7931032756186225| 9.462826677817269| 3.291819246194853|0.9740511850765766|4.052585414501391| 4.419747571171951|5.366258220514198|1.8855396003229348|\n",
      "|        7| 8.443806822828517| 4.69422373872776|   8.1023833214878|  8.41557824150528| 5.377354524150221| 7.802946338769795| 4.703194891751655|2.4670306959340396|4.137947239622436| 6.129149530799118|6.301490727852364|1.7221503521632888|\n",
      "+---------+------------------+-----------------+------------------+------------------+------------------+------------------+------------------+------------------+-----------------+------------------+-----------------+------------------+\n",
      "\n"
     ]
    }
   ],
   "source": [
    "df_minimise_delays_weekday_month = (flights_df\n",
    "                               .select('month', 'dayofweek', 'arrdelay')\n",
    "                               .groupBy('dayofweek').pivot('month').avg('arrdelay'))\n",
    "\n",
    "df_minimise_delays_weekday_month.show()"
   ]
  },
  {
   "cell_type": "code",
   "execution_count": 119,
   "metadata": {
    "collapsed": false
   },
   "outputs": [
    {
     "data": {
      "text/html": [
       "<div>\n",
       "<table border=\"1\" class=\"dataframe\">\n",
       "  <thead>\n",
       "    <tr style=\"text-align: right;\">\n",
       "      <th></th>\n",
       "      <th>dayofweek</th>\n",
       "      <th>1</th>\n",
       "      <th>10</th>\n",
       "      <th>11</th>\n",
       "      <th>12</th>\n",
       "      <th>2</th>\n",
       "      <th>3</th>\n",
       "      <th>4</th>\n",
       "      <th>5</th>\n",
       "      <th>6</th>\n",
       "      <th>7</th>\n",
       "      <th>8</th>\n",
       "      <th>9</th>\n",
       "    </tr>\n",
       "  </thead>\n",
       "  <tbody>\n",
       "    <tr>\n",
       "      <th>0</th>\n",
       "      <td>1</td>\n",
       "      <td>8.956748</td>\n",
       "      <td>4.151780</td>\n",
       "      <td>5.802816</td>\n",
       "      <td>10.365621</td>\n",
       "      <td>6.259802</td>\n",
       "      <td>11.223012</td>\n",
       "      <td>4.606463</td>\n",
       "      <td>1.829841</td>\n",
       "      <td>6.822793</td>\n",
       "      <td>5.209551</td>\n",
       "      <td>7.910395</td>\n",
       "      <td>2.940413</td>\n",
       "    </tr>\n",
       "    <tr>\n",
       "      <th>1</th>\n",
       "      <td>2</td>\n",
       "      <td>8.511072</td>\n",
       "      <td>5.364625</td>\n",
       "      <td>8.585522</td>\n",
       "      <td>13.803709</td>\n",
       "      <td>7.132561</td>\n",
       "      <td>12.989775</td>\n",
       "      <td>4.628633</td>\n",
       "      <td>3.007719</td>\n",
       "      <td>6.199235</td>\n",
       "      <td>5.905245</td>\n",
       "      <td>6.883559</td>\n",
       "      <td>2.930615</td>\n",
       "    </tr>\n",
       "    <tr>\n",
       "      <th>2</th>\n",
       "      <td>3</td>\n",
       "      <td>11.255739</td>\n",
       "      <td>6.094104</td>\n",
       "      <td>8.022868</td>\n",
       "      <td>15.131858</td>\n",
       "      <td>8.449787</td>\n",
       "      <td>7.824802</td>\n",
       "      <td>4.483683</td>\n",
       "      <td>4.435327</td>\n",
       "      <td>8.749658</td>\n",
       "      <td>7.576737</td>\n",
       "      <td>7.528000</td>\n",
       "      <td>4.672490</td>\n",
       "    </tr>\n",
       "    <tr>\n",
       "      <th>3</th>\n",
       "      <td>4</td>\n",
       "      <td>12.283326</td>\n",
       "      <td>8.018694</td>\n",
       "      <td>6.755673</td>\n",
       "      <td>14.160278</td>\n",
       "      <td>10.288258</td>\n",
       "      <td>10.820912</td>\n",
       "      <td>6.926488</td>\n",
       "      <td>6.191600</td>\n",
       "      <td>8.885840</td>\n",
       "      <td>8.124901</td>\n",
       "      <td>7.799819</td>\n",
       "      <td>6.887641</td>\n",
       "    </tr>\n",
       "    <tr>\n",
       "      <th>4</th>\n",
       "      <td>5</td>\n",
       "      <td>11.725659</td>\n",
       "      <td>7.780286</td>\n",
       "      <td>6.337611</td>\n",
       "      <td>12.673281</td>\n",
       "      <td>11.774841</td>\n",
       "      <td>14.161078</td>\n",
       "      <td>5.437996</td>\n",
       "      <td>6.766486</td>\n",
       "      <td>8.978869</td>\n",
       "      <td>7.139285</td>\n",
       "      <td>8.581971</td>\n",
       "      <td>9.326092</td>\n",
       "    </tr>\n",
       "    <tr>\n",
       "      <th>5</th>\n",
       "      <td>6</td>\n",
       "      <td>6.558712</td>\n",
       "      <td>2.585700</td>\n",
       "      <td>4.342053</td>\n",
       "      <td>9.946786</td>\n",
       "      <td>5.793103</td>\n",
       "      <td>9.462827</td>\n",
       "      <td>3.291819</td>\n",
       "      <td>0.974051</td>\n",
       "      <td>4.052585</td>\n",
       "      <td>4.419748</td>\n",
       "      <td>5.366258</td>\n",
       "      <td>1.885540</td>\n",
       "    </tr>\n",
       "    <tr>\n",
       "      <th>6</th>\n",
       "      <td>7</td>\n",
       "      <td>8.443807</td>\n",
       "      <td>4.694224</td>\n",
       "      <td>8.102383</td>\n",
       "      <td>8.415578</td>\n",
       "      <td>5.377355</td>\n",
       "      <td>7.802946</td>\n",
       "      <td>4.703195</td>\n",
       "      <td>2.467031</td>\n",
       "      <td>4.137947</td>\n",
       "      <td>6.129150</td>\n",
       "      <td>6.301491</td>\n",
       "      <td>1.722150</td>\n",
       "    </tr>\n",
       "  </tbody>\n",
       "</table>\n",
       "</div>"
      ],
      "text/plain": [
       "   dayofweek          1        10        11         12          2          3  \\\n",
       "0          1   8.956748  4.151780  5.802816  10.365621   6.259802  11.223012   \n",
       "1          2   8.511072  5.364625  8.585522  13.803709   7.132561  12.989775   \n",
       "2          3  11.255739  6.094104  8.022868  15.131858   8.449787   7.824802   \n",
       "3          4  12.283326  8.018694  6.755673  14.160278  10.288258  10.820912   \n",
       "4          5  11.725659  7.780286  6.337611  12.673281  11.774841  14.161078   \n",
       "5          6   6.558712  2.585700  4.342053   9.946786   5.793103   9.462827   \n",
       "6          7   8.443807  4.694224  8.102383   8.415578   5.377355   7.802946   \n",
       "\n",
       "          4         5         6         7         8         9  \n",
       "0  4.606463  1.829841  6.822793  5.209551  7.910395  2.940413  \n",
       "1  4.628633  3.007719  6.199235  5.905245  6.883559  2.930615  \n",
       "2  4.483683  4.435327  8.749658  7.576737  7.528000  4.672490  \n",
       "3  6.926488  6.191600  8.885840  8.124901  7.799819  6.887641  \n",
       "4  5.437996  6.766486  8.978869  7.139285  8.581971  9.326092  \n",
       "5  3.291819  0.974051  4.052585  4.419748  5.366258  1.885540  \n",
       "6  4.703195  2.467031  4.137947  6.129150  6.301491  1.722150  "
      ]
     },
     "execution_count": 119,
     "metadata": {},
     "output_type": "execute_result"
    }
   ],
   "source": [
    "# Convert to Pandas\n",
    "pd_minimise_delays_weekday_month = df_minimise_delays_weekday_month.toPandas()\n",
    "pd_minimise_delays_weekday_month"
   ]
  },
  {
   "cell_type": "code",
   "execution_count": 120,
   "metadata": {
    "collapsed": false
   },
   "outputs": [
    {
     "data": {
      "text/html": [
       "<div>\n",
       "<table border=\"1\" class=\"dataframe\">\n",
       "  <thead>\n",
       "    <tr style=\"text-align: right;\">\n",
       "      <th>Month</th>\n",
       "      <th>January</th>\n",
       "      <th>February</th>\n",
       "      <th>March</th>\n",
       "      <th>April</th>\n",
       "      <th>May</th>\n",
       "      <th>June</th>\n",
       "      <th>July</th>\n",
       "      <th>August</th>\n",
       "      <th>September</th>\n",
       "      <th>October</th>\n",
       "      <th>November</th>\n",
       "      <th>December</th>\n",
       "    </tr>\n",
       "  </thead>\n",
       "  <tbody>\n",
       "    <tr>\n",
       "      <th>Monday</th>\n",
       "      <td>8.956748</td>\n",
       "      <td>6.259802</td>\n",
       "      <td>11.223012</td>\n",
       "      <td>4.606463</td>\n",
       "      <td>1.829841</td>\n",
       "      <td>6.822793</td>\n",
       "      <td>5.209551</td>\n",
       "      <td>7.910395</td>\n",
       "      <td>2.940413</td>\n",
       "      <td>4.151780</td>\n",
       "      <td>5.802816</td>\n",
       "      <td>10.365621</td>\n",
       "    </tr>\n",
       "    <tr>\n",
       "      <th>Tuesday</th>\n",
       "      <td>8.511072</td>\n",
       "      <td>7.132561</td>\n",
       "      <td>12.989775</td>\n",
       "      <td>4.628633</td>\n",
       "      <td>3.007719</td>\n",
       "      <td>6.199235</td>\n",
       "      <td>5.905245</td>\n",
       "      <td>6.883559</td>\n",
       "      <td>2.930615</td>\n",
       "      <td>5.364625</td>\n",
       "      <td>8.585522</td>\n",
       "      <td>13.803709</td>\n",
       "    </tr>\n",
       "    <tr>\n",
       "      <th>Wednesday</th>\n",
       "      <td>11.255739</td>\n",
       "      <td>8.449787</td>\n",
       "      <td>7.824802</td>\n",
       "      <td>4.483683</td>\n",
       "      <td>4.435327</td>\n",
       "      <td>8.749658</td>\n",
       "      <td>7.576737</td>\n",
       "      <td>7.528000</td>\n",
       "      <td>4.672490</td>\n",
       "      <td>6.094104</td>\n",
       "      <td>8.022868</td>\n",
       "      <td>15.131858</td>\n",
       "    </tr>\n",
       "    <tr>\n",
       "      <th>Thursday</th>\n",
       "      <td>12.283326</td>\n",
       "      <td>10.288258</td>\n",
       "      <td>10.820912</td>\n",
       "      <td>6.926488</td>\n",
       "      <td>6.191600</td>\n",
       "      <td>8.885840</td>\n",
       "      <td>8.124901</td>\n",
       "      <td>7.799819</td>\n",
       "      <td>6.887641</td>\n",
       "      <td>8.018694</td>\n",
       "      <td>6.755673</td>\n",
       "      <td>14.160278</td>\n",
       "    </tr>\n",
       "    <tr>\n",
       "      <th>Friday</th>\n",
       "      <td>11.725659</td>\n",
       "      <td>11.774841</td>\n",
       "      <td>14.161078</td>\n",
       "      <td>5.437996</td>\n",
       "      <td>6.766486</td>\n",
       "      <td>8.978869</td>\n",
       "      <td>7.139285</td>\n",
       "      <td>8.581971</td>\n",
       "      <td>9.326092</td>\n",
       "      <td>7.780286</td>\n",
       "      <td>6.337611</td>\n",
       "      <td>12.673281</td>\n",
       "    </tr>\n",
       "    <tr>\n",
       "      <th>Saturday</th>\n",
       "      <td>6.558712</td>\n",
       "      <td>5.793103</td>\n",
       "      <td>9.462827</td>\n",
       "      <td>3.291819</td>\n",
       "      <td>0.974051</td>\n",
       "      <td>4.052585</td>\n",
       "      <td>4.419748</td>\n",
       "      <td>5.366258</td>\n",
       "      <td>1.885540</td>\n",
       "      <td>2.585700</td>\n",
       "      <td>4.342053</td>\n",
       "      <td>9.946786</td>\n",
       "    </tr>\n",
       "    <tr>\n",
       "      <th>Sunday</th>\n",
       "      <td>8.443807</td>\n",
       "      <td>5.377355</td>\n",
       "      <td>7.802946</td>\n",
       "      <td>4.703195</td>\n",
       "      <td>2.467031</td>\n",
       "      <td>4.137947</td>\n",
       "      <td>6.129150</td>\n",
       "      <td>6.301491</td>\n",
       "      <td>1.722150</td>\n",
       "      <td>4.694224</td>\n",
       "      <td>8.102383</td>\n",
       "      <td>8.415578</td>\n",
       "    </tr>\n",
       "  </tbody>\n",
       "</table>\n",
       "</div>"
      ],
      "text/plain": [
       "Month        January   February      March     April       May      June  \\\n",
       "Monday      8.956748   6.259802  11.223012  4.606463  1.829841  6.822793   \n",
       "Tuesday     8.511072   7.132561  12.989775  4.628633  3.007719  6.199235   \n",
       "Wednesday  11.255739   8.449787   7.824802  4.483683  4.435327  8.749658   \n",
       "Thursday   12.283326  10.288258  10.820912  6.926488  6.191600  8.885840   \n",
       "Friday     11.725659  11.774841  14.161078  5.437996  6.766486  8.978869   \n",
       "Saturday    6.558712   5.793103   9.462827  3.291819  0.974051  4.052585   \n",
       "Sunday      8.443807   5.377355   7.802946  4.703195  2.467031  4.137947   \n",
       "\n",
       "Month          July    August  September   October  November   December  \n",
       "Monday     5.209551  7.910395   2.940413  4.151780  5.802816  10.365621  \n",
       "Tuesday    5.905245  6.883559   2.930615  5.364625  8.585522  13.803709  \n",
       "Wednesday  7.576737  7.528000   4.672490  6.094104  8.022868  15.131858  \n",
       "Thursday   8.124901  7.799819   6.887641  8.018694  6.755673  14.160278  \n",
       "Friday     7.139285  8.581971   9.326092  7.780286  6.337611  12.673281  \n",
       "Saturday   4.419748  5.366258   1.885540  2.585700  4.342053   9.946786  \n",
       "Sunday     6.129150  6.301491   1.722150  4.694224  8.102383   8.415578  "
      ]
     },
     "execution_count": 120,
     "metadata": {},
     "output_type": "execute_result"
    }
   ],
   "source": [
    "# Add Month column name to index columns\n",
    "pd_minimise_delays_weekday_month.columns.names = ['Month']\n",
    "\n",
    "# Add Day of week\n",
    "pd_minimise_delays_weekday_month[\"DAY_OF_WEEK\"] = pd_minimise_delays_weekday_month.dayofweek.apply(convert_day_of_week)\n",
    "\n",
    "# Update index values by DAY_OF_WEEK values & drop DAY_OF_WEEK columns\n",
    "pd_minimise_delays_weekday_month = pd_minimise_delays_weekday_month.rename(index=pd_minimise_delays_weekday_month.DAY_OF_WEEK)\n",
    "\n",
    "pd_minimise_delays_weekday_month = pd_minimise_delays_weekday_month.drop('dayofweek', axis=1)\n",
    "pd_minimise_delays_weekday_month = pd_minimise_delays_weekday_month.drop('DAY_OF_WEEK', axis=1)\n",
    "\n",
    "pd_minimise_delays_weekday_month.rename(columns={'1': 'January', '2': 'February', '3': 'March','4': 'April','5': 'May', '6': 'June','7': 'July','8': 'August','9': 'September','10': 'October', '11': 'November','12': 'December'}, inplace=True)\n",
    "\n",
    "pd_minimise_delays_weekday_month = pd_minimise_delays_weekday_month.reindex_axis([\"January\", \"February\", \"March\", \"April\", \"May\", \"June\", \"July\", \"August\", \"September\", \"October\", \"November\", \"December\"], axis=1)\n",
    "pd_minimise_delays_weekday_month"
   ]
  },
  {
   "cell_type": "code",
   "execution_count": 121,
   "metadata": {
    "collapsed": false
   },
   "outputs": [
    {
     "data": {
      "text/plain": [
       "<matplotlib.axes._subplots.AxesSubplot at 0x7f3d7ead3190>"
      ]
     },
     "execution_count": 121,
     "metadata": {},
     "output_type": "execute_result"
    },
    {
     "data": {
      "image/png": "[encoded data removed]",
      "text/plain": [
       "<matplotlib.figure.Figure at 0x7f3d7ebba390>"
      ]
     },
     "metadata": {},
     "output_type": "display_data"
    }
   ],
   "source": [
    "# Draw a heatmap \n",
    "grid_kws = {\"height_ratios\": (.9, .05), \"hspace\": 0.9}\n",
    "f, (ax, cbar_ax) = plt.subplots(2, figsize=(10, 5),gridspec_kw=grid_kws)\n",
    "sns.heatmap(pd_minimise_delays_weekday_month, ax=ax, linewidths=0.01, cmap=\"YlGnBu\", square=True, cbar_ax=cbar_ax, cbar_kws={\"orientation\": \"horizontal\"})"
   ]
  },
  {
   "cell_type": "markdown",
   "metadata": {
    "collapsed": true
   },
   "source": [
    "## Load Airports Data"
   ]
  },
  {
   "cell_type": "code",
   "execution_count": 129,
   "metadata": {
    "collapsed": true
   },
   "outputs": [],
   "source": [
    "airports_df = sql_ctx.read.format(\"org.apache.spark.sql.cassandra\").options(table=\"airports\", keyspace=KEYSPACE).load()"
   ]
  },
  {
   "cell_type": "code",
   "execution_count": 130,
   "metadata": {
    "collapsed": false
   },
   "outputs": [
    {
     "name": "stdout",
     "output_type": "stream",
     "text": [
      "root\n",
      " |-- iata: string (nullable = true)\n",
      " |-- airport: string (nullable = true)\n",
      " |-- city: string (nullable = true)\n",
      " |-- country: string (nullable = true)\n",
      " |-- lat: string (nullable = true)\n",
      " |-- long: string (nullable = true)\n",
      " |-- state: string (nullable = true)\n",
      "\n"
     ]
    }
   ],
   "source": [
    "airports_df.printSchema()"
   ]
  },
  {
   "cell_type": "markdown",
   "metadata": {},
   "source": [
    "## When is the best airport to fly to minimise delays?"
   ]
  },
  {
   "cell_type": "code",
   "execution_count": 131,
   "metadata": {
    "collapsed": false
   },
   "outputs": [],
   "source": [
    "df_minimise_delays_airport_dest = (flights_df\n",
    "                              .select('dest', 'arrdelay')\n",
    "                              .groupBy('dest')\n",
    "                              .agg(F.avg('arrdelay').alias('AVG_DELAY_ARR'))\n",
    "                              .sort(F.desc('AVG_DELAY_ARR')))"
   ]
  },
  {
   "cell_type": "code",
   "execution_count": 132,
   "metadata": {
    "collapsed": false
   },
   "outputs": [
    {
     "name": "stdout",
     "output_type": "stream",
     "text": [
      "+----+------------------+----+--------------------+-------+-------+-----------+------------+-----+\n",
      "|dest|     AVG_DELAY_ARR|iata|             airport|   city|country|        lat|        long|state|\n",
      "+----+------------------+----+--------------------+-------+-------+-----------+------------+-----+\n",
      "| IAH| 7.286961154408183| IAH|George Bush Inter...|Houston|    USA|29.98047222|-95.33972222|   TX|\n",
      "| GEG| 8.515734406438632| GEG|        Spokane Intl|Spokane|    USA|47.61985556|-117.5338425|   WA|\n",
      "| YUM|3.0964797913950455| YUM|Yuma MCAS-Yuma In...|   Yuma|    USA|32.65658333|-114.6059722|   AZ|\n",
      "| TUS|7.8774270690381405| TUS|Tucson International| Tucson|    USA|32.11608333|-110.9410278|   AZ|\n",
      "+----+------------------+----+--------------------+-------+-------+-----------+------------+-----+\n",
      "only showing top 4 rows\n",
      "\n"
     ]
    }
   ],
   "source": [
    "# merge with airport data\n",
    "\n",
    "df_minimise_delays_airport_dest = (df_minimise_delays_airport_dest\n",
    "                 .join(airports_df, df_minimise_delays_airport_dest.dest == airports_df.iata, 'inner'))\n",
    "df_minimise_delays_airport_dest.show(4)"
   ]
  },
  {
   "cell_type": "code",
   "execution_count": 133,
   "metadata": {
    "collapsed": true
   },
   "outputs": [],
   "source": [
    "pd_minimise_delays_airport_dest = df_minimise_delays_airport_dest.toPandas()"
   ]
  },
  {
   "cell_type": "code",
   "execution_count": 134,
   "metadata": {
    "collapsed": false
   },
   "outputs": [],
   "source": [
    "pd_minimise_delays_airport_dest.to_csv(\"pd_minimise_delays_airport_dest.csv\", sep=\";\")"
   ]
  },
  {
   "cell_type": "code",
   "execution_count": null,
   "metadata": {
    "collapsed": true
   },
   "outputs": [],
   "source": []
  }
 ],
 "metadata": {
  "kernelspec": {
   "display_name": "Python 2",
   "language": "python",
   "name": "python2"
  },
  "language_info": {
   "codemirror_mode": {
    "name": "ipython",
    "version": 2
   },
   "file_extension": ".py",
   "mimetype": "text/x-python",
   "name": "python",
   "nbconvert_exporter": "python",
   "pygments_lexer": "ipython2",
   "version": "2.7.12"
  }
 },
 "nbformat": 4,
 "nbformat_minor": 1
}
