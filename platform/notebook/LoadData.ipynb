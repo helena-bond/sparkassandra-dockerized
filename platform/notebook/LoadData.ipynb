{
 "cells": [
  {
   "cell_type": "code",
   "execution_count": 1,
   "metadata": {
    "collapsed": true
   },
   "outputs": [],
   "source": [
    "import os\n",
    "import pyspark\n",
    "from pyspark.sql import SQLContext\n",
    "import pyspark.sql.functions as F\n",
    "import seaborn as sns\n",
    "import matplotlib.pyplot as plt\n",
    "import yaml"
   ]
  },
  {
   "cell_type": "code",
   "execution_count": 2,
   "metadata": {
    "collapsed": true
   },
   "outputs": [],
   "source": [
    "# Reads the YAML config file\n",
    "def read_yaml_config():\n",
    "    global cfg\n",
    "    with open(\"configuration.yml\", 'r') as ymlfile:\n",
    "        cfg = yaml.load(ymlfile)"
   ]
  },
  {
   "cell_type": "code",
   "execution_count": 3,
   "metadata": {
    "collapsed": true
   },
   "outputs": [],
   "source": [
    "# Get Amazon Access Key Id\n",
    "def get_amazon_access_key_id():\n",
    "    if 'cfg' not in globals():\n",
    "        read_yaml_config()\n",
    "    return cfg[\"amazon\"][\"access_key_id\"]"
   ]
  },
  {
   "cell_type": "code",
   "execution_count": 4,
   "metadata": {
    "collapsed": false
   },
   "outputs": [],
   "source": [
    "# Get Amazon Access Key Id\n",
    "def get_amazon_secret_access_key():\n",
    "    if 'cfg' not in globals():\n",
    "        read_yaml_config()\n",
    "    return cfg[\"amazon\"][\"secret_access_key\"]"
   ]
  },
  {
   "cell_type": "code",
   "execution_count": 5,
   "metadata": {
    "collapsed": true
   },
   "outputs": [],
   "source": [
    "KEYSPACE = \"sparkassandra\"\n",
    "APP_NAME = KEYSPACE\n",
    "CASSANDRA_IP = \"192.168.5.131\""
   ]
  },
  {
   "cell_type": "markdown",
   "metadata": {},
   "source": [
    "## Init PySpark"
   ]
  },
  {
   "cell_type": "code",
   "execution_count": 67,
   "metadata": {
    "collapsed": false
   },
   "outputs": [],
   "source": [
    "SUBMIT_ARGS = \"--packages com.databricks:spark-csv_2.10:1.2.0,com.amazonaws:aws-java-sdk:1.10.34,org.apache.hadoop:hadoop-aws:2.6.0,com.datastax.spark:spark-cassandra-connector_2.10:1.6.0-M1 pyspark-shell\"\n",
    "os.environ[\"PYSPARK_SUBMIT_ARGS\"] = SUBMIT_ARGS"
   ]
  },
  {
   "cell_type": "code",
   "execution_count": 7,
   "metadata": {
    "collapsed": false
   },
   "outputs": [],
   "source": [
    "# Make sure the driver and workers all use Python2\n",
    "os.environ['PYSPARK_PYTHON'] = '/opt/conda/envs/python2/bin/python'"
   ]
  },
  {
   "cell_type": "code",
   "execution_count": 8,
   "metadata": {
    "collapsed": false
   },
   "outputs": [
    {
     "data": {
      "text/plain": [
       "<pyspark.conf.SparkConf at 0x7f0c3fd28810>"
      ]
     },
     "execution_count": 8,
     "metadata": {},
     "output_type": "execute_result"
    }
   ],
   "source": [
    "#Init Spark Conf\n",
    "conf = pyspark.SparkConf().setAppName(APP_NAME)\n",
    "conf.set(\"spark.cassandra.connection.host\",CASSANDRA_IP)"
   ]
  },
  {
   "cell_type": "code",
   "execution_count": 9,
   "metadata": {
    "collapsed": false
   },
   "outputs": [],
   "source": [
    "# Init Spark Context\n",
    "sc = pyspark.SparkContext('local[*]', conf = conf)"
   ]
  },
  {
   "cell_type": "code",
   "execution_count": 10,
   "metadata": {
    "collapsed": true
   },
   "outputs": [],
   "source": [
    "# Init Spark SQL Context\n",
    "sql_ctx = SQLContext(sc)"
   ]
  },
  {
   "cell_type": "code",
   "execution_count": 11,
   "metadata": {
    "collapsed": false
   },
   "outputs": [],
   "source": [
    "hadoopConf = sc._jsc.hadoopConfiguration()\n",
    "hadoopConf.set(\"fs.s3n.impl\", \"org.apache.hadoop.fs.s3native.NativeS3FileSystem\")\n",
    "\n",
    "hadoopConf.set(\"fs.s3n.awsAccessKeyId\", get_amazon_access_key_id())\n",
    "hadoopConf.set(\"fs.s3n.awsSecretAccessKey\", get_amazon_secret_access_key())"
   ]
  },
  {
   "cell_type": "markdown",
   "metadata": {},
   "source": [
    "## Create Cassandra Keyspace"
   ]
  },
  {
   "cell_type": "markdown",
   "metadata": {},
   "source": [
    "https://github.com/dkoepke/cassandra-python-driver"
   ]
  },
  {
   "cell_type": "raw",
   "metadata": {},
   "source": [
    "create keyspace IF NOT EXISTS sparkassandra WITH replication = {'class': 'SimpleStrategy', 'replication_factor': 1};"
   ]
  },
  {
   "cell_type": "markdown",
   "metadata": {},
   "source": [
    "## Create Table us_flights"
   ]
  },
  {
   "cell_type": "raw",
   "metadata": {},
   "source": [
    "CREATE TABLE sparkassandra.us_flights (\n",
    "  Id                text PRIMARY KEY,\n",
    "  Year              text,\n",
    "  Month             text,\n",
    "  DayOfMonth       text,\n",
    "  DayOfWeek         text,\n",
    "  DepTime           text,\n",
    "  CRSDepTime        text,\n",
    "  ArrTime           text,\n",
    "  CRSArrTime        text,\n",
    "  UniqueCarrier     text,\n",
    "  FlightNum         text,\n",
    "  TailNum           text,\n",
    "  ActualElapsedTime text,\n",
    "  CRSElapsedTime    text,\n",
    "  AirTime           text,\n",
    "  ArrDelay          text,\n",
    "  DepDelay          text,\n",
    "  Origin            text,\n",
    "  Dest              text,\n",
    "  Distance          text,\n",
    "  TaxiIn            text,\n",
    "  TaxiOut           text,\n",
    "  Cancelled         text,\n",
    "  CancellationCode  text,\n",
    "  Diverted          text,\n",
    "  CarrierDelay      text,\n",
    "  WeatherDelay      text,\n",
    "  NASDelay          text,\n",
    "  SecurityDelay     text,\n",
    "  LateAircraftDelay text\n",
    ");"
   ]
  },
  {
   "cell_type": "markdown",
   "metadata": {},
   "source": [
    "## Create Table us_airports"
   ]
  },
  {
   "cell_type": "raw",
   "metadata": {},
   "source": [
    "CREATE TABLE sparkassandra.airports (\n",
    "  iata              text PRIMARY KEY,\n",
    "  airport           text,\n",
    "  city              text,\n",
    "  state             text,\n",
    "  country           text,\n",
    "  lat               text,\n",
    "  long              text\n",
    ");"
   ]
  },
  {
   "cell_type": "markdown",
   "metadata": {},
   "source": [
    "## Load Airport file and store in Cassandra"
   ]
  },
  {
   "cell_type": "code",
   "execution_count": 13,
   "metadata": {
    "collapsed": false
   },
   "outputs": [],
   "source": [
    "airportRDD = sql_ctx.read.format('com.databricks.spark.csv').options(header='true').load('s3n://sparkassandra/airports.csv')"
   ]
  },
  {
   "cell_type": "code",
   "execution_count": 14,
   "metadata": {
    "collapsed": false
   },
   "outputs": [
    {
     "name": "stdout",
     "output_type": "stream",
     "text": [
      "root\n",
      " |-- iata: string (nullable = true)\n",
      " |-- airport: string (nullable = true)\n",
      " |-- city: string (nullable = true)\n",
      " |-- state: string (nullable = true)\n",
      " |-- country: string (nullable = true)\n",
      " |-- lat: string (nullable = true)\n",
      " |-- long: string (nullable = true)\n",
      "\n"
     ]
    }
   ],
   "source": [
    "airportRDD.printSchema()"
   ]
  },
  {
   "cell_type": "code",
   "execution_count": 15,
   "metadata": {
    "collapsed": false
   },
   "outputs": [],
   "source": [
    "airportRDD.write\\\n",
    "    .format(\"org.apache.spark.sql.cassandra\")\\\n",
    "    .mode('append')\\\n",
    "    .options(table=\"airports\", keyspace=KEYSPACE)\\\n",
    "    .save()"
   ]
  },
  {
   "cell_type": "markdown",
   "metadata": {},
   "source": [
    "## Load US Flights files and store in Cassandra"
   ]
  },
  {
   "cell_type": "code",
   "execution_count": 57,
   "metadata": {
    "collapsed": false
   },
   "outputs": [],
   "source": [
    "flightsRDD = sql_ctx.read.format('com.databricks.spark.csv').options(header='true').load('s3n://sparkassandra/1987.csv')"
   ]
  },
  {
   "cell_type": "code",
   "execution_count": 58,
   "metadata": {
    "collapsed": true
   },
   "outputs": [],
   "source": [
    "# Add Id\n",
    "flightsRDD = flightsRDD.withColumn(\"Id\", F.concat_ws(\"-\", flightsRDD[\"Year\"], flightsRDD[\"Month\"], flightsRDD[\"DayofMonth\"], flightsRDD[\"DepTime\"], flightsRDD[\"FlightNum\"]));"
   ]
  },
  {
   "cell_type": "code",
   "execution_count": 59,
   "metadata": {
    "collapsed": false
   },
   "outputs": [],
   "source": [
    "for column in flightsRDD.columns:\n",
    "    flightsRDD = flightsRDD.withColumnRenamed(column, column.lower());"
   ]
  },
  {
   "cell_type": "code",
   "execution_count": 60,
   "metadata": {
    "collapsed": true
   },
   "outputs": [],
   "source": [
    "flightsRDD.registerTempTable(\"us_flights\")"
   ]
  },
  {
   "cell_type": "code",
   "execution_count": 61,
   "metadata": {
    "collapsed": false
   },
   "outputs": [
    {
     "name": "stdout",
     "output_type": "stream",
     "text": [
      "root\n",
      " |-- year: string (nullable = true)\n",
      " |-- month: string (nullable = true)\n",
      " |-- dayofmonth: string (nullable = true)\n",
      " |-- dayofweek: string (nullable = true)\n",
      " |-- deptime: string (nullable = true)\n",
      " |-- crsdeptime: string (nullable = true)\n",
      " |-- arrtime: string (nullable = true)\n",
      " |-- crsarrtime: string (nullable = true)\n",
      " |-- uniquecarrier: string (nullable = true)\n",
      " |-- flightnum: string (nullable = true)\n",
      " |-- tailnum: string (nullable = true)\n",
      " |-- actualelapsedtime: string (nullable = true)\n",
      " |-- crselapsedtime: string (nullable = true)\n",
      " |-- airtime: string (nullable = true)\n",
      " |-- arrdelay: string (nullable = true)\n",
      " |-- depdelay: string (nullable = true)\n",
      " |-- origin: string (nullable = true)\n",
      " |-- dest: string (nullable = true)\n",
      " |-- distance: string (nullable = true)\n",
      " |-- taxiin: string (nullable = true)\n",
      " |-- taxiout: string (nullable = true)\n",
      " |-- cancelled: string (nullable = true)\n",
      " |-- cancellationcode: string (nullable = true)\n",
      " |-- diverted: string (nullable = true)\n",
      " |-- carrierdelay: string (nullable = true)\n",
      " |-- weatherdelay: string (nullable = true)\n",
      " |-- nasdelay: string (nullable = true)\n",
      " |-- securitydelay: string (nullable = true)\n",
      " |-- lateaircraftdelay: string (nullable = true)\n",
      " |-- id: string (nullable = false)\n",
      "\n"
     ]
    }
   ],
   "source": [
    "flightsRDD.printSchema()"
   ]
  },
  {
   "cell_type": "code",
   "execution_count": 63,
   "metadata": {
    "collapsed": false
   },
   "outputs": [],
   "source": [
    "flightsRDD.write\\\n",
    "    .format(\"org.apache.spark.sql.cassandra\")\\\n",
    "    .mode('append')\\\n",
    "    .options(table=\"us_flights\", keyspace=KEYSPACE)\\\n",
    "    .save()"
   ]
  },
  {
   "cell_type": "code",
   "execution_count": 66,
   "metadata": {
    "collapsed": false
   },
   "outputs": [],
   "source": [
    "#sql_ctx.read.format(\"org.apache.spark.sql.cassandra\").options(table=\"us_flights\", keyspace=KEYSPACE).load().show()"
   ]
  },
  {
   "cell_type": "markdown",
   "metadata": {},
   "source": [
    "TEST"
   ]
  },
  {
   "cell_type": "raw",
   "metadata": {},
   "source": [
    "CREATE TABLE sparkassandra.bonhomme (\n",
    "  nom              text PRIMARY KEY,\n",
    "  prenom           text,\n",
    "  age              text\n",
    ");"
   ]
  },
  {
   "cell_type": "code",
   "execution_count": 65,
   "metadata": {
    "collapsed": false
   },
   "outputs": [],
   "source": [
    "#RES = sql_ctx.read.format('com.databricks.spark.csv').options(header='true', delimiter=';').load('s3n://sparkassandra/file1.csv')\n",
    "#RES.show()"
   ]
  },
  {
   "cell_type": "code",
   "execution_count": 64,
   "metadata": {
    "collapsed": false
   },
   "outputs": [],
   "source": [
    "#RES.write\\\n",
    "#    .format(\"org.apache.spark.sql.cassandra\")\\\n",
    "#    .mode('append')\\\n",
    "#    .options(table=\"bonhomme\", keyspace=KEYSPACE)\\\n",
    "#    .save()"
   ]
  },
  {
   "cell_type": "code",
   "execution_count": null,
   "metadata": {
    "collapsed": true
   },
   "outputs": [],
   "source": []
  }
 ],
 "metadata": {
  "kernelspec": {
   "display_name": "Python 2",
   "language": "python",
   "name": "python2"
  },
  "language_info": {
   "codemirror_mode": {
    "name": "ipython",
    "version": 2
   },
   "file_extension": ".py",
   "mimetype": "text/x-python",
   "name": "python",
   "nbconvert_exporter": "python",
   "pygments_lexer": "ipython2",
   "version": "2.7.12"
  }
 },
 "nbformat": 4,
 "nbformat_minor": 1
}
