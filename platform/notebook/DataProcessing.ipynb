{
 "cells": [
  {
   "cell_type": "code",
   "execution_count": 36,
   "metadata": {
    "collapsed": false
   },
   "outputs": [],
   "source": [
    "import os\n",
    "import pyspark\n",
    "from pyspark.sql import SQLContext\n",
    "import pyspark.sql.functions as F\n",
    "import seaborn as sns\n",
    "import matplotlib.pyplot as plt"
   ]
  },
  {
   "cell_type": "code",
   "execution_count": 37,
   "metadata": {
    "collapsed": true
   },
   "outputs": [],
   "source": [
    "KEYSPACE = \"sparkassandra\"\n",
    "APP_NAME = KEYSPACE\n",
    "CASSANDRA_IP = \"192.168.5.131\""
   ]
  },
  {
   "cell_type": "markdown",
   "metadata": {},
   "source": [
    "## Init PySpark"
   ]
  },
  {
   "cell_type": "code",
   "execution_count": 38,
   "metadata": {
    "collapsed": true
   },
   "outputs": [],
   "source": [
    "SUBMIT_ARGS = \"--packages com.databricks:spark-csv_2.11:1.2.0,com.datastax.spark:spark-cassandra-connector_2.10:1.6.0-M1 pyspark-shell\"\n",
    "\n",
    "os.environ[\"PYSPARK_SUBMIT_ARGS\"] = SUBMIT_ARGS"
   ]
  },
  {
   "cell_type": "code",
   "execution_count": 39,
   "metadata": {
    "collapsed": true
   },
   "outputs": [],
   "source": [
    "# Make sure the driver and workers all use Python2\n",
    "os.environ['PYSPARK_PYTHON'] = '/opt/conda/envs/python2/bin/python'"
   ]
  },
  {
   "cell_type": "code",
   "execution_count": 40,
   "metadata": {
    "collapsed": false
   },
   "outputs": [
    {
     "data": {
      "text/plain": [
       "<pyspark.conf.SparkConf at 0x7fe614dd48d0>"
      ]
     },
     "execution_count": 40,
     "metadata": {},
     "output_type": "execute_result"
    }
   ],
   "source": [
    "#Init Spark Conf\n",
    "conf = pyspark.SparkConf().setAppName(APP_NAME)\n",
    "conf.set(\"spark.cassandra.connection.host\",CASSANDRA_IP)"
   ]
  },
  {
   "cell_type": "code",
   "execution_count": 41,
   "metadata": {
    "collapsed": false
   },
   "outputs": [
    {
     "ename": "ValueError",
     "evalue": "Cannot run multiple SparkContexts at once; existing SparkContext(app=sparkassandra, master=local[*]) created by __init__ at <ipython-input-6-1db1d4522cfe>:2 ",
     "output_type": "error",
     "traceback": [
      "\u001b[1;31m\u001b[0m",
      "\u001b[1;31mValueError\u001b[0mTraceback (most recent call last)",
      "\u001b[1;32m<ipython-input-41-1db1d4522cfe>\u001b[0m in \u001b[0;36m<module>\u001b[1;34m()\u001b[0m\n\u001b[0;32m      1\u001b[0m \u001b[1;31m# Init Spark Context\u001b[0m\u001b[1;33m\u001b[0m\u001b[1;33m\u001b[0m\u001b[0m\n\u001b[1;32m----> 2\u001b[1;33m \u001b[0msc\u001b[0m \u001b[1;33m=\u001b[0m \u001b[0mpyspark\u001b[0m\u001b[1;33m.\u001b[0m\u001b[0mSparkContext\u001b[0m\u001b[1;33m(\u001b[0m\u001b[1;34m'local[*]'\u001b[0m\u001b[1;33m,\u001b[0m \u001b[0mconf\u001b[0m \u001b[1;33m=\u001b[0m \u001b[0mconf\u001b[0m\u001b[1;33m)\u001b[0m\u001b[1;33m\u001b[0m\u001b[0m\n\u001b[0m",
      "\u001b[1;32m/usr/local/spark/python/pyspark/context.py\u001b[0m in \u001b[0;36m__init__\u001b[1;34m(self, master, appName, sparkHome, pyFiles, environment, batchSize, serializer, conf, gateway, jsc, profiler_cls)\u001b[0m\n\u001b[0;32m    110\u001b[0m         \"\"\"\n\u001b[0;32m    111\u001b[0m         \u001b[0mself\u001b[0m\u001b[1;33m.\u001b[0m\u001b[0m_callsite\u001b[0m \u001b[1;33m=\u001b[0m \u001b[0mfirst_spark_call\u001b[0m\u001b[1;33m(\u001b[0m\u001b[1;33m)\u001b[0m \u001b[1;32mor\u001b[0m \u001b[0mCallSite\u001b[0m\u001b[1;33m(\u001b[0m\u001b[0mNone\u001b[0m\u001b[1;33m,\u001b[0m \u001b[0mNone\u001b[0m\u001b[1;33m,\u001b[0m \u001b[0mNone\u001b[0m\u001b[1;33m)\u001b[0m\u001b[1;33m\u001b[0m\u001b[0m\n\u001b[1;32m--> 112\u001b[1;33m         \u001b[0mSparkContext\u001b[0m\u001b[1;33m.\u001b[0m\u001b[0m_ensure_initialized\u001b[0m\u001b[1;33m(\u001b[0m\u001b[0mself\u001b[0m\u001b[1;33m,\u001b[0m \u001b[0mgateway\u001b[0m\u001b[1;33m=\u001b[0m\u001b[0mgateway\u001b[0m\u001b[1;33m)\u001b[0m\u001b[1;33m\u001b[0m\u001b[0m\n\u001b[0m\u001b[0;32m    113\u001b[0m         \u001b[1;32mtry\u001b[0m\u001b[1;33m:\u001b[0m\u001b[1;33m\u001b[0m\u001b[0m\n\u001b[0;32m    114\u001b[0m             self._do_init(master, appName, sparkHome, pyFiles, environment, batchSize, serializer,\n",
      "\u001b[1;32m/usr/local/spark/python/pyspark/context.py\u001b[0m in \u001b[0;36m_ensure_initialized\u001b[1;34m(cls, instance, gateway)\u001b[0m\n\u001b[0;32m    259\u001b[0m                         \u001b[1;34m\" created by %s at %s:%s \"\u001b[0m\u001b[1;33m\u001b[0m\u001b[0m\n\u001b[0;32m    260\u001b[0m                         % (currentAppName, currentMaster,\n\u001b[1;32m--> 261\u001b[1;33m                             callsite.function, callsite.file, callsite.linenum))\n\u001b[0m\u001b[0;32m    262\u001b[0m                 \u001b[1;32melse\u001b[0m\u001b[1;33m:\u001b[0m\u001b[1;33m\u001b[0m\u001b[0m\n\u001b[0;32m    263\u001b[0m                     \u001b[0mSparkContext\u001b[0m\u001b[1;33m.\u001b[0m\u001b[0m_active_spark_context\u001b[0m \u001b[1;33m=\u001b[0m \u001b[0minstance\u001b[0m\u001b[1;33m\u001b[0m\u001b[0m\n",
      "\u001b[1;31mValueError\u001b[0m: Cannot run multiple SparkContexts at once; existing SparkContext(app=sparkassandra, master=local[*]) created by __init__ at <ipython-input-6-1db1d4522cfe>:2 "
     ]
    }
   ],
   "source": [
    "# Init Spark Context\n",
    "sc = pyspark.SparkContext('local[*]', conf = conf)"
   ]
  },
  {
   "cell_type": "code",
   "execution_count": 42,
   "metadata": {
    "collapsed": false
   },
   "outputs": [],
   "source": [
    "# Init Spark SQL Context\n",
    "sql_ctx = SQLContext(sc)"
   ]
  },
  {
   "cell_type": "markdown",
   "metadata": {
    "collapsed": true
   },
   "source": [
    "## Load Flight Data from Cassandra (us_flights table)"
   ]
  },
  {
   "cell_type": "code",
   "execution_count": 43,
   "metadata": {
    "collapsed": false
   },
   "outputs": [],
   "source": [
    "flights_df = sql_ctx.read.format(\"org.apache.spark.sql.cassandra\").options(table=\"us_flights\", keyspace=KEYSPACE).load()"
   ]
  },
  {
   "cell_type": "code",
   "execution_count": 44,
   "metadata": {
    "collapsed": false
   },
   "outputs": [
    {
     "name": "stdout",
     "output_type": "stream",
     "text": [
      "root\n",
      " |-- id: string (nullable = true)\n",
      " |-- actualelapsedtime: string (nullable = true)\n",
      " |-- airtime: string (nullable = true)\n",
      " |-- arrdelay: string (nullable = true)\n",
      " |-- arrtime: string (nullable = true)\n",
      " |-- cancellationcode: string (nullable = true)\n",
      " |-- cancelled: string (nullable = true)\n",
      " |-- carrierdelay: string (nullable = true)\n",
      " |-- crsarrtime: string (nullable = true)\n",
      " |-- crsdeptime: string (nullable = true)\n",
      " |-- crselapsedtime: string (nullable = true)\n",
      " |-- dayofmonth: string (nullable = true)\n",
      " |-- dayofweek: string (nullable = true)\n",
      " |-- depdelay: string (nullable = true)\n",
      " |-- deptime: string (nullable = true)\n",
      " |-- dest: string (nullable = true)\n",
      " |-- distance: string (nullable = true)\n",
      " |-- diverted: string (nullable = true)\n",
      " |-- flightnum: string (nullable = true)\n",
      " |-- lateaircraftdelay: string (nullable = true)\n",
      " |-- month: string (nullable = true)\n",
      " |-- nasdelay: string (nullable = true)\n",
      " |-- origin: string (nullable = true)\n",
      " |-- securitydelay: string (nullable = true)\n",
      " |-- tailnum: string (nullable = true)\n",
      " |-- taxiin: string (nullable = true)\n",
      " |-- taxiout: string (nullable = true)\n",
      " |-- uniquecarrier: string (nullable = true)\n",
      " |-- weatherdelay: string (nullable = true)\n",
      " |-- year: string (nullable = true)\n",
      "\n"
     ]
    }
   ],
   "source": [
    "flights_df.printSchema()"
   ]
  },
  {
   "cell_type": "code",
   "execution_count": 45,
   "metadata": {
    "collapsed": false
   },
   "outputs": [],
   "source": [
    "def convertColumn(df, name, newType) :\n",
    "    df_1 = df.withColumnRenamed(name, \"swap\")\n",
    "    df_1 = df_1.withColumn(name, df_1[\"swap\"].cast(newType)).drop(\"swap\")\n",
    "    return df_1"
   ]
  },
  {
   "cell_type": "code",
   "execution_count": 46,
   "metadata": {
    "collapsed": false
   },
   "outputs": [],
   "source": [
    "flights_df = convertColumn(flights_df, \"dayofweek\", \"int\")\n",
    "flights_df = convertColumn(flights_df, \"arrdelay\", \"int\")\n",
    "flights_df = convertColumn(flights_df, \"depdelay\", \"int\")"
   ]
  },
  {
   "cell_type": "code",
   "execution_count": 47,
   "metadata": {
    "collapsed": true
   },
   "outputs": [],
   "source": [
    "flights_df.registerTempTable(\"flight\")"
   ]
  },
  {
   "cell_type": "markdown",
   "metadata": {},
   "source": [
    "## When is the best day of week to fly to minimise delays?"
   ]
  },
  {
   "cell_type": "code",
   "execution_count": 48,
   "metadata": {
    "collapsed": false
   },
   "outputs": [],
   "source": [
    "# SQL Request method\n",
    "#sql_ctx.sql(\"\"\"SELECT DayOfWeek as weekday, avg(ArrDelay) as avg_delay \n",
    "#                                FROM flight\n",
    "#                                GROUP BY DayOfWeek\n",
    "#                                ORDER BY avg_delay DESC\"\"\").show()"
   ]
  },
  {
   "cell_type": "code",
   "execution_count": 49,
   "metadata": {
    "collapsed": false
   },
   "outputs": [],
   "source": [
    "# DataFrame syntax\n",
    "df_minimise_delays_weekday = (flights_df\n",
    "                              .select('dayofweek', 'arrdelay')\n",
    "                              .groupBy('dayofweek')\n",
    "                              .agg(F.avg('arrdelay').alias('AVG_DELAY_ARR')))"
   ]
  },
  {
   "cell_type": "code",
   "execution_count": 50,
   "metadata": {
    "collapsed": false
   },
   "outputs": [],
   "source": [
    "from pyspark.sql.functions import udf\n",
    "from pyspark.sql.types import *\n",
    "\n",
    "def convert_day_of_week(val):\n",
    "    week   = ['Monday', \n",
    "              'Tuesday', \n",
    "              'Wednesday', \n",
    "              'Thursday',  \n",
    "              'Friday', \n",
    "              'Saturday',\n",
    "              'Sunday']\n",
    "    \n",
    "    return week[int(val)-1]\n"
   ]
  },
  {
   "cell_type": "code",
   "execution_count": 51,
   "metadata": {
    "collapsed": true
   },
   "outputs": [],
   "source": [
    "# NOTE: it seems that calls to udf() must be after SparkContext() is called\n",
    "udf_convert_day_of_week = udf(convert_day_of_week, StringType())"
   ]
  },
  {
   "cell_type": "code",
   "execution_count": 52,
   "metadata": {
    "collapsed": false
   },
   "outputs": [],
   "source": [
    "df_minimise_delays_weekday = df_minimise_delays_weekday.withColumn(\"DAY_OF_WEEK\", udf_convert_day_of_week(df_minimise_delays_weekday['dayofweek']))"
   ]
  },
  {
   "cell_type": "code",
   "execution_count": 53,
   "metadata": {
    "collapsed": false
   },
   "outputs": [
    {
     "name": "stdout",
     "output_type": "stream",
     "text": [
      "+-----------+------------------+\n",
      "|DAY_OF_WEEK|     AVG_DELAY_ARR|\n",
      "+-----------+------------------+\n",
      "|     Monday| 9.442378253978593|\n",
      "|    Tuesday| 11.52004276658562|\n",
      "|  Wednesday|11.254871344808834|\n",
      "|   Thursday|  9.78082616248946|\n",
      "|     Friday| 8.802137207389704|\n",
      "|   Saturday|5.9339265485323205|\n",
      "|     Sunday| 9.164291502105065|\n",
      "+-----------+------------------+\n",
      "\n"
     ]
    }
   ],
   "source": [
    "df_minimise_delays_weekday[[\"DAY_OF_WEEK\", \"AVG_DELAY_ARR\"]].show()"
   ]
  },
  {
   "cell_type": "code",
   "execution_count": 21,
   "metadata": {
    "collapsed": false
   },
   "outputs": [
    {
     "data": {
      "text/plain": [
       "<function matplotlib.pyplot.legend>"
      ]
     },
     "execution_count": 21,
     "metadata": {},
     "output_type": "execute_result"
    },
    {
     "data": {
      "image/png": "[encoded data removed]",
      "text/plain": [
       "<matplotlib.figure.Figure at 0x7fe614fa1050>"
      ]
     },
     "metadata": {},
     "output_type": "display_data"
    }
   ],
   "source": [
    "sns.set_style('whitegrid')\n",
    "df_minimise_delays_weekday_pd = df_minimise_delays_weekday.toPandas()\n",
    "\n",
    "plt.figure(figsize=(30,8))\n",
    "ax = sns.barplot(x='DAY_OF_WEEK', y='AVG_DELAY_ARR', data=df_minimise_delays_weekday_pd)\n",
    "for p in ax.patches:\n",
    "    height = p.get_height()\n",
    "    ax.text(p.get_x(), height+ 0.25, '%1.00f'%p.get_height())\n",
    "plt.title('When is the best time of day of time of year to fly to minimise delays?')\n",
    "plt.xlabel('Day')\n",
    "plt.ylabel('Average Delay')\n",
    "plt.legend"
   ]
  },
  {
   "cell_type": "markdown",
   "metadata": {},
   "source": [
    "## When is the best day of week of month to fly to minimise delays?"
   ]
  },
  {
   "cell_type": "code",
   "execution_count": 26,
   "metadata": {
    "collapsed": false
   },
   "outputs": [
    {
     "name": "stdout",
     "output_type": "stream",
     "text": [
      "+------------------+------------------+------------------+-----------+\n",
      "|           October|          November|          December|DAY_OF_WEEK|\n",
      "+------------------+------------------+------------------+-----------+\n",
      "| 4.893243219944484| 8.851362302640771|15.042915942559224|     Monday|\n",
      "| 6.295279780295228|10.493120825849653|  16.8119710410931|    Tuesday|\n",
      "|6.6576942261055025| 9.909521803244154|16.124617693701857|  Wednesday|\n",
      "| 7.388888126381092| 9.391177610095383|12.580171919770773|   Thursday|\n",
      "| 7.298999395238881| 6.916164770614915|12.661967447225324|     Friday|\n",
      "| 3.705643211219925| 3.270535215607727|11.399349655700076|   Saturday|\n",
      "|  5.44264960971379| 9.673733386555492|12.370471454742589|     Sunday|\n",
      "+------------------+------------------+------------------+-----------+\n",
      "\n"
     ]
    }
   ],
   "source": [
    "df_minimise_delays_weekday_month = (flights_df\n",
    "                               .select('month', 'dayofweek', 'arrdelay')\n",
    "                               .groupBy('dayofweek').pivot('month').avg('arrdelay'))\n",
    "# Create Column DAY_OF_WEEK : convert int => string value\n",
    "df_minimise_delays_weekday_month = df_minimise_delays_weekday_month.withColumn(\"DAY_OF_WEEK\", udf_convert_day_of_week(df_minimise_delays_weekday.dayofweek))\n",
    "# Drop DayOfWeek (int value)\n",
    "df_minimise_delays_weekday_month = df_minimise_delays_weekday_month.drop(\"dayofweek\")\n",
    "# Update column name : convert int month to str month\n",
    "df_minimise_delays_weekday_month = df_minimise_delays_weekday_month.withColumnRenamed(\"1\", \"January\")\n",
    "df_minimise_delays_weekday_month = df_minimise_delays_weekday_month.withColumnRenamed(\"2\", \"February\")\n",
    "df_minimise_delays_weekday_month = df_minimise_delays_weekday_month.withColumnRenamed(\"3\", \"March\")\n",
    "df_minimise_delays_weekday_month = df_minimise_delays_weekday_month.withColumnRenamed(\"4\", \"April\")\n",
    "df_minimise_delays_weekday_month = df_minimise_delays_weekday_month.withColumnRenamed(\"5\", \"May\")\n",
    "df_minimise_delays_weekday_month = df_minimise_delays_weekday_month.withColumnRenamed(\"6\", \"June\")\n",
    "df_minimise_delays_weekday_month = df_minimise_delays_weekday_month.withColumnRenamed(\"7\", \"July\")\n",
    "df_minimise_delays_weekday_month = df_minimise_delays_weekday_month.withColumnRenamed(\"8\", \"August\")\n",
    "df_minimise_delays_weekday_month = df_minimise_delays_weekday_month.withColumnRenamed(\"9\", \"September\")\n",
    "df_minimise_delays_weekday_month = df_minimise_delays_weekday_month.withColumnRenamed(\"10\", \"October\")\n",
    "df_minimise_delays_weekday_month = df_minimise_delays_weekday_month.withColumnRenamed(\"11\", \"November\")\n",
    "df_minimise_delays_weekday_month = df_minimise_delays_weekday_month.withColumnRenamed(\"12\", \"December\")\n",
    "df_minimise_delays_weekday_month.show()"
   ]
  },
  {
   "cell_type": "code",
   "execution_count": 27,
   "metadata": {
    "collapsed": false
   },
   "outputs": [
    {
     "data": {
      "text/html": [
       "<div>\n",
       "<table border=\"1\" class=\"dataframe\">\n",
       "  <thead>\n",
       "    <tr style=\"text-align: right;\">\n",
       "      <th>Month</th>\n",
       "      <th>October</th>\n",
       "      <th>November</th>\n",
       "      <th>December</th>\n",
       "    </tr>\n",
       "  </thead>\n",
       "  <tbody>\n",
       "    <tr>\n",
       "      <th>Monday</th>\n",
       "      <td>4.893243</td>\n",
       "      <td>8.851362</td>\n",
       "      <td>15.042916</td>\n",
       "    </tr>\n",
       "    <tr>\n",
       "      <th>Tuesday</th>\n",
       "      <td>6.295280</td>\n",
       "      <td>10.493121</td>\n",
       "      <td>16.811971</td>\n",
       "    </tr>\n",
       "    <tr>\n",
       "      <th>Wednesday</th>\n",
       "      <td>6.657694</td>\n",
       "      <td>9.909522</td>\n",
       "      <td>16.124618</td>\n",
       "    </tr>\n",
       "    <tr>\n",
       "      <th>Thursday</th>\n",
       "      <td>7.388888</td>\n",
       "      <td>9.391178</td>\n",
       "      <td>12.580172</td>\n",
       "    </tr>\n",
       "    <tr>\n",
       "      <th>Friday</th>\n",
       "      <td>7.298999</td>\n",
       "      <td>6.916165</td>\n",
       "      <td>12.661967</td>\n",
       "    </tr>\n",
       "    <tr>\n",
       "      <th>Saturday</th>\n",
       "      <td>3.705643</td>\n",
       "      <td>3.270535</td>\n",
       "      <td>11.399350</td>\n",
       "    </tr>\n",
       "    <tr>\n",
       "      <th>Sunday</th>\n",
       "      <td>5.442650</td>\n",
       "      <td>9.673733</td>\n",
       "      <td>12.370471</td>\n",
       "    </tr>\n",
       "  </tbody>\n",
       "</table>\n",
       "</div>"
      ],
      "text/plain": [
       "Month       October   November   December\n",
       "Monday     4.893243   8.851362  15.042916\n",
       "Tuesday    6.295280  10.493121  16.811971\n",
       "Wednesday  6.657694   9.909522  16.124618\n",
       "Thursday   7.388888   9.391178  12.580172\n",
       "Friday     7.298999   6.916165  12.661967\n",
       "Saturday   3.705643   3.270535  11.399350\n",
       "Sunday     5.442650   9.673733  12.370471"
      ]
     },
     "execution_count": 27,
     "metadata": {},
     "output_type": "execute_result"
    }
   ],
   "source": [
    "# Convert to Pandas\n",
    "pd_minimise_delays_weekday_month = df_minimise_delays_weekday_month.toPandas()\n",
    "\n",
    "# Add Month column name to index columns\n",
    "pd_minimise_delays_weekday_month.columns.names = ['Month']\n",
    "\n",
    "# Update index values by DAY_OF_WEEK values & drop DAY_OF_WEEK columns\n",
    "pd_minimise_delays_weekday_month = pd_minimise_delays_weekday_month.rename(index=pd_minimise_delays_weekday_month.DAY_OF_WEEK).drop('DAY_OF_WEEK', axis=1)\n",
    "pd_minimise_delays_weekday_month"
   ]
  },
  {
   "cell_type": "code",
   "execution_count": 28,
   "metadata": {
    "collapsed": false
   },
   "outputs": [
    {
     "data": {
      "text/plain": [
       "<matplotlib.axes._subplots.AxesSubplot at 0x7fe614ebdb10>"
      ]
     },
     "execution_count": 28,
     "metadata": {},
     "output_type": "execute_result"
    },
    {
     "data": {
      "image/png": "[encoded data removed]",
      "text/plain": [
       "<matplotlib.figure.Figure at 0x7fe6141186d0>"
      ]
     },
     "metadata": {},
     "output_type": "display_data"
    }
   ],
   "source": [
    "# Draw a heatmap \n",
    "grid_kws = {\"height_ratios\": (.9, .05), \"hspace\": 0.9}\n",
    "f, (ax, cbar_ax) = plt.subplots(2, figsize=(10, 5),gridspec_kw=grid_kws)\n",
    "sns.heatmap(pd_minimise_delays_weekday_month, ax=ax, linewidths=0.01, cmap=\"YlGnBu\", square=True, cbar_ax=cbar_ax, cbar_kws={\"orientation\": \"horizontal\"})"
   ]
  },
  {
   "cell_type": "markdown",
   "metadata": {
    "collapsed": true
   },
   "source": [
    "## Load Airports Data"
   ]
  },
  {
   "cell_type": "code",
   "execution_count": 30,
   "metadata": {
    "collapsed": true
   },
   "outputs": [],
   "source": [
    "airports_df = sql_ctx.read.format(\"org.apache.spark.sql.cassandra\").options(table=\"airports\", keyspace=KEYSPACE).load()"
   ]
  },
  {
   "cell_type": "code",
   "execution_count": 31,
   "metadata": {
    "collapsed": false
   },
   "outputs": [
    {
     "name": "stdout",
     "output_type": "stream",
     "text": [
      "root\n",
      " |-- iata: string (nullable = true)\n",
      " |-- airport: string (nullable = true)\n",
      " |-- city: string (nullable = true)\n",
      " |-- country: string (nullable = true)\n",
      " |-- lat: string (nullable = true)\n",
      " |-- long: string (nullable = true)\n",
      " |-- state: string (nullable = true)\n",
      "\n"
     ]
    }
   ],
   "source": [
    "airports_df.printSchema()"
   ]
  },
  {
   "cell_type": "markdown",
   "metadata": {},
   "source": [
    "## When is the best airport to fly to minimise delays?"
   ]
  },
  {
   "cell_type": "code",
   "execution_count": 32,
   "metadata": {
    "collapsed": false
   },
   "outputs": [],
   "source": [
    "df_minimise_delays_airport_dest = (flights_df\n",
    "                              .select('dest', 'arrdelay')\n",
    "                              .groupBy('dest')\n",
    "                              .agg(F.avg('arrdelay').alias('AVG_DELAY_ARR'))\n",
    "                              .sort(F.desc('AVG_DELAY_ARR')))"
   ]
  },
  {
   "cell_type": "code",
   "execution_count": 34,
   "metadata": {
    "collapsed": false
   },
   "outputs": [
    {
     "name": "stdout",
     "output_type": "stream",
     "text": [
      "+----+-----------------+----+-------------------+-------------+-------+-----------+------------+-----+\n",
      "|dest|    AVG_DELAY_ARR|iata|            airport|         city|country|        lat|        long|state|\n",
      "+----+-----------------+----+-------------------+-------------+-------+-----------+------------+-----+\n",
      "| PIH|             59.0| PIH| Pocatello Regional|    Pocatello|    USA|42.91130556|-112.5958611|   ID|\n",
      "| RDD|24.15015015015015| RDD|  Redding Municipal|      Redding|    USA|40.50898361|-122.2934019|   CA|\n",
      "| YKM|             23.6| YKM|Yakima Air Terminal|       Yakima|    USA|46.56816972|-120.5440594|   WA|\n",
      "| ACV|22.33433734939759| ACV|             Arcata|Arcata/Eureka|    USA|40.97811528|-124.1086189|   CA|\n",
      "+----+-----------------+----+-------------------+-------------+-------+-----------+------------+-----+\n",
      "only showing top 4 rows\n",
      "\n"
     ]
    }
   ],
   "source": [
    "# merge with airport data\n",
    "\n",
    "df_minimise_delays_airport_dest = (df_minimise_delays_airport_dest\n",
    "                 .join(airports_df, df_minimise_delays_airport_dest.dest == airports_df.iata, 'inner'))\n",
    "df_minimise_delays_airport_dest.show(4)"
   ]
  },
  {
   "cell_type": "code",
   "execution_count": 35,
   "metadata": {
    "collapsed": true
   },
   "outputs": [],
   "source": [
    "pd_minimise_delays_airport_dest = df_minimise_delays_airport_dest.toPandas()"
   ]
  },
  {
   "cell_type": "code",
   "execution_count": null,
   "metadata": {
    "collapsed": false
   },
   "outputs": [],
   "source": [
    "pd_minimise_delays_airport_dest.to_csv(\"pd_minimise_delays_airport_dest.csv\", sep=\";\")"
   ]
  },
  {
   "cell_type": "code",
   "execution_count": null,
   "metadata": {
    "collapsed": true
   },
   "outputs": [],
   "source": []
  }
 ],
 "metadata": {
  "kernelspec": {
   "display_name": "Python 2",
   "language": "python",
   "name": "python2"
  },
  "language_info": {
   "codemirror_mode": {
    "name": "ipython",
    "version": 2
   },
   "file_extension": ".py",
   "mimetype": "text/x-python",
   "name": "python",
   "nbconvert_exporter": "python",
   "pygments_lexer": "ipython2",
   "version": "2.7.12"
  }
 },
 "nbformat": 4,
 "nbformat_minor": 1
}
