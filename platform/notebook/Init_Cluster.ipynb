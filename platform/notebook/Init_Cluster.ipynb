{
 "cells": [
  {
   "cell_type": "code",
   "execution_count": 355,
   "metadata": {
    "collapsed": false
   },
   "outputs": [],
   "source": [
    "import os\n",
    "import pyspark\n",
    "from pyspark.sql import SQLContext\n",
    "import pyspark.sql.functions as F\n",
    "import seaborn as sns\n",
    "import matplotlib.pyplot as plt"
   ]
  },
  {
   "cell_type": "markdown",
   "metadata": {},
   "source": [
    "## Init PySpark"
   ]
  },
  {
   "cell_type": "code",
   "execution_count": 2,
   "metadata": {
    "collapsed": true
   },
   "outputs": [],
   "source": [
    "SUBMIT_ARGS = \"--packages com.databricks:spark-csv_2.11:1.2.0 pyspark-shell\"\n",
    "os.environ[\"PYSPARK_SUBMIT_ARGS\"] = SUBMIT_ARGS"
   ]
  },
  {
   "cell_type": "code",
   "execution_count": 3,
   "metadata": {
    "collapsed": false
   },
   "outputs": [
    {
     "data": {
      "text/plain": [
       "[799, 899, 982, 28, 442]"
      ]
     },
     "execution_count": 3,
     "metadata": {},
     "output_type": "execute_result"
    }
   ],
   "source": [
    "# Make sure the driver and workers all use Python2\n",
    "os.environ['PYSPARK_PYTHON'] = '/opt/conda/envs/python2/bin/python'\n",
    "\n",
    "# Init Spark Context\n",
    "sc = pyspark.SparkContext('local[*]')\n",
    "\n",
    "# Init Spark SQL Context\n",
    "sql_ctx = SQLContext(sc)\n",
    "\n",
    "# do something to prove it works\n",
    "rdd = sc.parallelize(range(1000))\n",
    "rdd.takeSample(False, 5)"
   ]
  },
  {
   "cell_type": "markdown",
   "metadata": {
    "collapsed": true
   },
   "source": [
    "## Load CSV Data"
   ]
  },
  {
   "cell_type": "code",
   "execution_count": 368,
   "metadata": {
    "collapsed": false
   },
   "outputs": [],
   "source": [
    "flights_1987_df = sql_ctx.read.format('com.databricks.spark.csv').options(header='true').load('../data/1987.csv')"
   ]
  },
  {
   "cell_type": "code",
   "execution_count": 369,
   "metadata": {
    "collapsed": false
   },
   "outputs": [
    {
     "name": "stdout",
     "output_type": "stream",
     "text": [
      "root\n",
      " |-- Year: string (nullable = true)\n",
      " |-- Month: string (nullable = true)\n",
      " |-- DayofMonth: string (nullable = true)\n",
      " |-- DayOfWeek: string (nullable = true)\n",
      " |-- DepTime: string (nullable = true)\n",
      " |-- CRSDepTime: string (nullable = true)\n",
      " |-- ArrTime: string (nullable = true)\n",
      " |-- CRSArrTime: string (nullable = true)\n",
      " |-- UniqueCarrier: string (nullable = true)\n",
      " |-- FlightNum: string (nullable = true)\n",
      " |-- TailNum: string (nullable = true)\n",
      " |-- ActualElapsedTime: string (nullable = true)\n",
      " |-- CRSElapsedTime: string (nullable = true)\n",
      " |-- AirTime: string (nullable = true)\n",
      " |-- ArrDelay: string (nullable = true)\n",
      " |-- DepDelay: string (nullable = true)\n",
      " |-- Origin: string (nullable = true)\n",
      " |-- Dest: string (nullable = true)\n",
      " |-- Distance: string (nullable = true)\n",
      " |-- TaxiIn: string (nullable = true)\n",
      " |-- TaxiOut: string (nullable = true)\n",
      " |-- Cancelled: string (nullable = true)\n",
      " |-- CancellationCode: string (nullable = true)\n",
      " |-- Diverted: string (nullable = true)\n",
      " |-- CarrierDelay: string (nullable = true)\n",
      " |-- WeatherDelay: string (nullable = true)\n",
      " |-- NASDelay: string (nullable = true)\n",
      " |-- SecurityDelay: string (nullable = true)\n",
      " |-- LateAircraftDelay: string (nullable = true)\n",
      "\n"
     ]
    }
   ],
   "source": [
    "flights_1987_df.printSchema()"
   ]
  },
  {
   "cell_type": "code",
   "execution_count": 370,
   "metadata": {
    "collapsed": false
   },
   "outputs": [],
   "source": [
    "def convertColumn(df, name, newType) :\n",
    "    df_1 = df.withColumnRenamed(name, \"swap\")\n",
    "    df_1 = df_1.withColumn(name, df_1[\"swap\"].cast(newType)).drop(\"swap\")\n",
    "    return df_1"
   ]
  },
  {
   "cell_type": "code",
   "execution_count": 371,
   "metadata": {
    "collapsed": false
   },
   "outputs": [],
   "source": [
    "flights_1987_df = convertColumn(flights_1987_df, \"DayOfWeek\", \"int\")\n",
    "flights_1987_df = convertColumn(flights_1987_df, \"ArrDelay\", \"int\")\n",
    "flights_1987_df = convertColumn(flights_1987_df, \"DepDelay\", \"int\")"
   ]
  },
  {
   "cell_type": "code",
   "execution_count": 372,
   "metadata": {
    "collapsed": true
   },
   "outputs": [],
   "source": [
    "flights_1987_df.registerTempTable(\"flight\")"
   ]
  },
  {
   "cell_type": "code",
   "execution_count": 373,
   "metadata": {
    "collapsed": true
   },
   "outputs": [],
   "source": [
    "# TODO save the DataFrame in parquet file or in cassandra..."
   ]
  },
  {
   "cell_type": "markdown",
   "metadata": {},
   "source": [
    "## When is the best time of day of time of year to fly to minimise delays?"
   ]
  },
  {
   "cell_type": "code",
   "execution_count": 374,
   "metadata": {
    "collapsed": false
   },
   "outputs": [],
   "source": [
    "# SQL Request method\n",
    "#sql_ctx.sql(\"\"\"SELECT DayOfWeek as weekday, avg(ArrDelay) as avg_delay \n",
    "#                                FROM flight\n",
    "#                                GROUP BY DayOfWeek\n",
    "#                                ORDER BY avg_delay DESC\"\"\").show()"
   ]
  },
  {
   "cell_type": "code",
   "execution_count": 375,
   "metadata": {
    "collapsed": false
   },
   "outputs": [],
   "source": [
    "# DataFrame syntax\n",
    "df_minimise_delays_weekday = (flights_1987_df\n",
    "                              .select('DayOfWeek', 'ArrDelay')\n",
    "                              .groupBy('DayOfWeek')\n",
    "                              .agg(F.avg('ArrDelay').alias('AVG_DELAY_ARR')))"
   ]
  },
  {
   "cell_type": "code",
   "execution_count": 376,
   "metadata": {
    "collapsed": false
   },
   "outputs": [],
   "source": [
    "from pyspark.sql.functions import udf\n",
    "from pyspark.sql.types import *\n",
    "\n",
    "def convert_day_of_week(val):\n",
    "    week   = ['Monday', \n",
    "              'Tuesday', \n",
    "              'Wednesday', \n",
    "              'Thursday',  \n",
    "              'Friday', \n",
    "              'Saturday',\n",
    "              'Sunday']\n",
    "    \n",
    "    return week[int(val)-1]\n"
   ]
  },
  {
   "cell_type": "code",
   "execution_count": 377,
   "metadata": {
    "collapsed": true
   },
   "outputs": [],
   "source": [
    "# NOTE: it seems that calls to udf() must be after SparkContext() is called\n",
    "udf_convert_day_of_week = udf(convert_day_of_week, StringType())"
   ]
  },
  {
   "cell_type": "code",
   "execution_count": 378,
   "metadata": {
    "collapsed": false
   },
   "outputs": [],
   "source": [
    "df_minimise_delays_weekday = df_minimise_delays_weekday.withColumn(\"DAY_OF_WEEK\", udf_convert_day_of_week(df_minimise_delays_weekday['DayOfWeek']))"
   ]
  },
  {
   "cell_type": "code",
   "execution_count": 379,
   "metadata": {
    "collapsed": false
   },
   "outputs": [
    {
     "name": "stdout",
     "output_type": "stream",
     "text": [
      "+-----------+------------------+\n",
      "|DAY_OF_WEEK|     AVG_DELAY_ARR|\n",
      "+-----------+------------------+\n",
      "|     Monday| 9.423212438582881|\n",
      "|    Tuesday|11.504344921586691|\n",
      "|  Wednesday|11.233518950001068|\n",
      "|   Thursday| 9.764202840820278|\n",
      "|     Friday| 8.791372742470333|\n",
      "|   Saturday| 5.928266598260302|\n",
      "|     Sunday| 9.154889545518502|\n",
      "+-----------+------------------+\n",
      "\n"
     ]
    }
   ],
   "source": [
    "df_minimise_delays_weekday[[\"DAY_OF_WEEK\", \"AVG_DELAY_ARR\"]].show()"
   ]
  },
  {
   "cell_type": "code",
   "execution_count": 380,
   "metadata": {
    "collapsed": false
   },
   "outputs": [
    {
     "data": {
      "text/plain": [
       "<function matplotlib.pyplot.legend>"
      ]
     },
     "execution_count": 380,
     "metadata": {},
     "output_type": "execute_result"
    },
    {
     "data": {
      "image/png": "[encoded data removed]",
      "text/plain": [
       "<matplotlib.figure.Figure at 0x7f40f4c9cc10>"
      ]
     },
     "metadata": {},
     "output_type": "display_data"
    }
   ],
   "source": [
    "sns.set_style('whitegrid')\n",
    "df_minimise_delays_weekday_pd = df_minimise_delays_weekday.toPandas()\n",
    "\n",
    "plt.figure(figsize=(30,8))\n",
    "ax = sns.barplot(x='DAY_OF_WEEK', y='AVG_DELAY_ARR', data=df_minimise_delays_weekday_pd)\n",
    "for p in ax.patches:\n",
    "    height = p.get_height()\n",
    "    ax.text(p.get_x(), height+ 0.25, '%1.00f'%p.get_height())\n",
    "plt.title('When is the best time of day of time of year to fly to minimise delays?')\n",
    "plt.xlabel('Day')\n",
    "plt.ylabel('Average Delay')\n",
    "plt.legend"
   ]
  },
  {
   "cell_type": "code",
   "execution_count": 390,
   "metadata": {
    "collapsed": false
   },
   "outputs": [
    {
     "name": "stdout",
     "output_type": "stream",
     "text": [
      "+-----------------+------------------+------------------+-----------+\n",
      "|          October|          November|          December|DAY_OF_WEEK|\n",
      "+-----------------+------------------+------------------+-----------+\n",
      "|4.894294756650415| 8.835708937633454|15.003070549973655|     Monday|\n",
      "|6.292136746310372|10.482892825019027|16.782797378813523|    Tuesday|\n",
      "|6.646462578069008| 9.897410427993865|16.090022210351712|  Wednesday|\n",
      "|7.372927988667784| 9.368406598436442| 12.56968058618482|   Thursday|\n",
      "|7.294044597287044| 6.911955257766211|12.638297872340425|     Friday|\n",
      "|3.709878766054495| 3.270287332134522|11.380422797612258|   Saturday|\n",
      "| 5.43834829443447| 9.663520674015471| 12.35584815956617|     Sunday|\n",
      "+-----------------+------------------+------------------+-----------+\n",
      "\n"
     ]
    }
   ],
   "source": [
    "df_minimise_delays_weekday_month = (flights_1987_df\n",
    "                               .select('Month', 'DayOfWeek', 'ArrDelay')\n",
    "                               .groupBy('DayOfWeek').pivot('Month').avg('ArrDelay'))\n",
    "# Create Column DAY_OF_WEEK : convert int => string value\n",
    "df_minimise_delays_weekday_month = df_minimise_delays_weekday_month.withColumn(\"DAY_OF_WEEK\", udf_convert_day_of_week(df_minimise_delays_weekday['DayOfWeek']))\n",
    "# Drop DayOfWeek (int value)\n",
    "df_minimise_delays_weekday_month = df_minimise_delays_weekday_month.drop(\"DayOfWeek\")\n",
    "# Update column name : convert int month to str month\n",
    "df_minimise_delays_weekday_month = df_minimise_delays_weekday_month.withColumnRenamed(\"10\", \"October\")\n",
    "df_minimise_delays_weekday_month = df_minimise_delays_weekday_month.withColumnRenamed(\"11\", \"November\")\n",
    "df_minimise_delays_weekday_month = df_minimise_delays_weekday_month.withColumnRenamed(\"12\", \"December\")\n",
    "df_minimise_delays_weekday_month.show()"
   ]
  },
  {
   "cell_type": "code",
   "execution_count": 395,
   "metadata": {
    "collapsed": false
   },
   "outputs": [
    {
     "data": {
      "text/html": [
       "<div>\n",
       "<table border=\"1\" class=\"dataframe\">\n",
       "  <thead>\n",
       "    <tr style=\"text-align: right;\">\n",
       "      <th>Month</th>\n",
       "      <th>October</th>\n",
       "      <th>November</th>\n",
       "      <th>December</th>\n",
       "    </tr>\n",
       "  </thead>\n",
       "  <tbody>\n",
       "    <tr>\n",
       "      <th>Monday</th>\n",
       "      <td>4.894295</td>\n",
       "      <td>8.835709</td>\n",
       "      <td>15.003071</td>\n",
       "    </tr>\n",
       "    <tr>\n",
       "      <th>Tuesday</th>\n",
       "      <td>6.292137</td>\n",
       "      <td>10.482893</td>\n",
       "      <td>16.782797</td>\n",
       "    </tr>\n",
       "    <tr>\n",
       "      <th>Wednesday</th>\n",
       "      <td>6.646463</td>\n",
       "      <td>9.897410</td>\n",
       "      <td>16.090022</td>\n",
       "    </tr>\n",
       "    <tr>\n",
       "      <th>Thursday</th>\n",
       "      <td>7.372928</td>\n",
       "      <td>9.368407</td>\n",
       "      <td>12.569681</td>\n",
       "    </tr>\n",
       "    <tr>\n",
       "      <th>Friday</th>\n",
       "      <td>7.294045</td>\n",
       "      <td>6.911955</td>\n",
       "      <td>12.638298</td>\n",
       "    </tr>\n",
       "    <tr>\n",
       "      <th>Saturday</th>\n",
       "      <td>3.709879</td>\n",
       "      <td>3.270287</td>\n",
       "      <td>11.380423</td>\n",
       "    </tr>\n",
       "    <tr>\n",
       "      <th>Sunday</th>\n",
       "      <td>5.438348</td>\n",
       "      <td>9.663521</td>\n",
       "      <td>12.355848</td>\n",
       "    </tr>\n",
       "  </tbody>\n",
       "</table>\n",
       "</div>"
      ],
      "text/plain": [
       "Month       October   November   December\n",
       "Monday     4.894295   8.835709  15.003071\n",
       "Tuesday    6.292137  10.482893  16.782797\n",
       "Wednesday  6.646463   9.897410  16.090022\n",
       "Thursday   7.372928   9.368407  12.569681\n",
       "Friday     7.294045   6.911955  12.638298\n",
       "Saturday   3.709879   3.270287  11.380423\n",
       "Sunday     5.438348   9.663521  12.355848"
      ]
     },
     "execution_count": 395,
     "metadata": {},
     "output_type": "execute_result"
    }
   ],
   "source": [
    "# Convert to Pandas\n",
    "pd_minimise_delays_weekday_month = df_minimise_delays_weekday_month.toPandas()\n",
    "\n",
    "# Add Month column name to index columns\n",
    "pd_minimise_delays_weekday_month.columns.names = ['Month']\n",
    "\n",
    "# Update index values by DAY_OF_WEEK values & drop DAY_OF_WEEK columns\n",
    "pd_minimise_delays_weekday_month = pd_minimise_delays_weekday_month.rename(index=pd_minimise_delays_weekday_month.DAY_OF_WEEK).drop('DAY_OF_WEEK', axis=1)\n",
    "pd_minimise_delays_weekday_month"
   ]
  },
  {
   "cell_type": "code",
   "execution_count": 399,
   "metadata": {
    "collapsed": false
   },
   "outputs": [
    {
     "data": {
      "text/plain": [
       "<matplotlib.axes._subplots.AxesSubplot at 0x7f40f2a18b50>"
      ]
     },
     "execution_count": 399,
     "metadata": {},
     "output_type": "execute_result"
    },
    {
     "data": {
      "image/png": "[encoded data removed]",
      "text/plain": [
       "<matplotlib.figure.Figure at 0x7f40f2aa9290>"
      ]
     },
     "metadata": {},
     "output_type": "display_data"
    }
   ],
   "source": [
    "# Draw a heatmap \n",
    "grid_kws = {\"height_ratios\": (.9, .05), \"hspace\": 0.9}\n",
    "f, (ax, cbar_ax) = plt.subplots(2, figsize=(10, 5),gridspec_kw=grid_kws)\n",
    "sns.heatmap(pd_minimise_delays_weekday_month, ax=ax, linewidths=0.01, cmap=\"YlGnBu\", square=True, cbar_ax=cbar_ax, cbar_kws={\"orientation\": \"horizontal\"})"
   ]
  },
  {
   "cell_type": "markdown",
   "metadata": {
    "collapsed": true
   },
   "source": [
    "## Load Airports Data"
   ]
  },
  {
   "cell_type": "code",
   "execution_count": 400,
   "metadata": {
    "collapsed": true
   },
   "outputs": [],
   "source": [
    "airports_df = sql_ctx.read.format('com.databricks.spark.csv').options(header='true').load('../data/airports.csv')"
   ]
  },
  {
   "cell_type": "code",
   "execution_count": 401,
   "metadata": {
    "collapsed": false
   },
   "outputs": [
    {
     "name": "stdout",
     "output_type": "stream",
     "text": [
      "root\n",
      " |-- iata: string (nullable = true)\n",
      " |-- airport: string (nullable = true)\n",
      " |-- city: string (nullable = true)\n",
      " |-- state: string (nullable = true)\n",
      " |-- country: string (nullable = true)\n",
      " |-- lat: string (nullable = true)\n",
      " |-- long: string (nullable = true)\n",
      "\n"
     ]
    }
   ],
   "source": [
    "airports_df.printSchema()"
   ]
  },
  {
   "cell_type": "markdown",
   "metadata": {},
   "source": [
    "## When is the best airport to fly to minimise delays?"
   ]
  },
  {
   "cell_type": "code",
   "execution_count": 402,
   "metadata": {
    "collapsed": false
   },
   "outputs": [],
   "source": [
    "df_minimise_delays_airport_dest = (flights_1987_df\n",
    "                              .select('Dest', 'ArrDelay')\n",
    "                              .groupBy('Dest')\n",
    "                              .agg(F.avg('ArrDelay').alias('AVG_DELAY_ARR'))\n",
    "                              .sort(F.desc('AVG_DELAY_ARR')))"
   ]
  },
  {
   "cell_type": "code",
   "execution_count": 403,
   "metadata": {
    "collapsed": false
   },
   "outputs": [
    {
     "name": "stdout",
     "output_type": "stream",
     "text": [
      "+----+------------------+----+--------------------+-------+-----+-------+-----------+------------+\n",
      "|Dest|     AVG_DELAY_ARR|iata|             airport|   city|state|country|        lat|        long|\n",
      "+----+------------------+----+--------------------+-------+-----+-------+-----------+------------+\n",
      "| IAH|11.824664156556501| IAH|George Bush Inter...|Houston|   TX|    USA|29.98047222|-95.33972222|\n",
      "| GEG|12.228323699421965| GEG|        Spokane Intl|Spokane|   WA|    USA|47.61985556|-117.5338425|\n",
      "| YUM|  5.77319587628866| YUM|Yuma MCAS-Yuma In...|   Yuma|   AZ|    USA|32.65658333|-114.6059722|\n",
      "| TUS|12.350730688935283| TUS|Tucson International| Tucson|   AZ|    USA|32.11608333|-110.9410278|\n",
      "+----+------------------+----+--------------------+-------+-----+-------+-----------+------------+\n",
      "only showing top 4 rows\n",
      "\n"
     ]
    }
   ],
   "source": [
    "# merge with airport data\n",
    "\n",
    "df_minimise_delays_airport_dest = (df_minimise_delays_airport_dest\n",
    "                 .join(airports_df, df_minimise_delays_airport_dest.Dest == airports_df.iata, 'inner'))\n",
    "df_minimise_delays_airport_dest.show(4)"
   ]
  },
  {
   "cell_type": "code",
   "execution_count": null,
   "metadata": {
    "collapsed": true
   },
   "outputs": [],
   "source": []
  }
 ],
 "metadata": {
  "kernelspec": {
   "display_name": "Python 2",
   "language": "python",
   "name": "python2"
  },
  "language_info": {
   "codemirror_mode": {
    "name": "ipython",
    "version": 2
   },
   "file_extension": ".py",
   "mimetype": "text/x-python",
   "name": "python",
   "nbconvert_exporter": "python",
   "pygments_lexer": "ipython2",
   "version": "2.7.12"
  }
 },
 "nbformat": 4,
 "nbformat_minor": 1
}
